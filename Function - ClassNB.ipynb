{
 "cells": [
  {
   "cell_type": "markdown",
   "id": "6a7941e9",
   "metadata": {},
   "source": [
    "# Chapter 8: Functions in Python"
   ]
  },
  {
   "cell_type": "markdown",
   "id": "9d8b91de",
   "metadata": {},
   "source": [
    "## Defining\n",
    "* A function is a block of code which only runs when it is called.\n",
    "\n",
    "* You can pass data, known as parameters, into a function.\n",
    "\n",
    "* A function can return data as a result."
   ]
  },
  {
   "cell_type": "markdown",
   "id": "6557ee86",
   "metadata": {},
   "source": [
    "### This is how you define a function in Python\n",
    "- def keyword\n",
    "- name of the function\n",
    "- (parameters) --> parameters can also be empty\n",
    "- body of the function"
   ]
  },
  {
   "cell_type": "code",
   "execution_count": 4,
   "id": "42cfffc8",
   "metadata": {},
   "outputs": [],
   "source": [
    "def myFunction(): #myFunction is the name, inside the () is looking for a parameter\n",
    "    print('hello')"
   ]
  },
  {
   "cell_type": "code",
   "execution_count": 5,
   "id": "779efb4c",
   "metadata": {},
   "outputs": [
    {
     "name": "stdout",
     "output_type": "stream",
     "text": [
      "hello\n"
     ]
    }
   ],
   "source": [
    "myFunction"
   ]
  },
  {
   "cell_type": "code",
   "execution_count": 7,
   "id": "267f7757",
   "metadata": {},
   "outputs": [
    {
     "name": "stdout",
     "output_type": "stream",
     "text": [
      "1530\n"
     ]
    }
   ],
   "source": [
    "def myFunctionTwo():\n",
    "    print(34*45)\n",
    "myFunctionTwo()"
   ]
  },
  {
   "cell_type": "markdown",
   "id": "5c361e5a",
   "metadata": {},
   "source": [
    "### Why we need function?"
   ]
  },
  {
   "cell_type": "code",
   "execution_count": 9,
   "id": "3501abf0",
   "metadata": {},
   "outputs": [
    {
     "name": "stdout",
     "output_type": "stream",
     "text": [
      "2001 Newburg Rd\n",
      "2001 Newburg Rd\n",
      "2001 Newburg Rd\n",
      "2001 Newburg Rd\n",
      "2001 Newburg Rd\n"
     ]
    }
   ],
   "source": [
    "print('2001 Newburg Rd')\n",
    "print('2001 Newburg Rd')\n",
    "print('2001 Newburg Rd')\n",
    "print('2001 Newburg Rd')\n",
    "print('2001 Newburg Rd')"
   ]
  },
  {
   "cell_type": "code",
   "execution_count": 11,
   "id": "ebe88bc7",
   "metadata": {},
   "outputs": [
    {
     "name": "stdout",
     "output_type": "stream",
     "text": [
      "2001 Newburg Rd\n",
      "2001 Newburg Rd\n",
      "2001 Newburg Rd\n",
      "2001 Newburg Rd\n",
      "2001 Newburg Rd\n"
     ]
    }
   ],
   "source": [
    "def address():\n",
    "    print('2001 Newburg Rd')\n",
    "    \n",
    "address()\n",
    "address()\n",
    "address()\n",
    "address()\n",
    "address()"
   ]
  },
  {
   "cell_type": "markdown",
   "id": "d0f1621e",
   "metadata": {},
   "source": [
    "### Function with parameters"
   ]
  },
  {
   "cell_type": "markdown",
   "id": "08338a48",
   "metadata": {},
   "source": [
    "\n",
    "### The `return` statement: \n",
    "* Use inside a function or method to send the function’s result back to the caller. \n",
    "* A return statement consists of the `return` keyword followed by an optional return value\n",
    "\n",
    "* Three Ways to Return a Result to a Function’s Caller\n",
    "    * **`return`** followed by an expression.\n",
    "    * **`return`** without an expression implicitly returns **`None`**&mdash;represents the **absence of a value** and **evaluates to `False` in conditions**.\n",
    "    * **No `return` statement implicitly returns `None`**.\n"
   ]
  },
  {
   "cell_type": "code",
   "execution_count": 15,
   "id": "7d925d43",
   "metadata": {},
   "outputs": [
    {
     "data": {
      "text/plain": [
       "4"
      ]
     },
     "execution_count": 15,
     "metadata": {},
     "output_type": "execute_result"
    }
   ],
   "source": [
    "def square(number): #number is the parameter\n",
    "    return(number ** 2)\n",
    "square(2)\n"
   ]
  },
  {
   "cell_type": "code",
   "execution_count": 14,
   "id": "b60d6e32",
   "metadata": {},
   "outputs": [
    {
     "data": {
      "text/plain": [
       "25"
      ]
     },
     "execution_count": 14,
     "metadata": {},
     "output_type": "execute_result"
    }
   ],
   "source": [
    "square(5)"
   ]
  },
  {
   "cell_type": "code",
   "execution_count": 18,
   "id": "f5635e43",
   "metadata": {},
   "outputs": [
    {
     "name": "stdout",
     "output_type": "stream",
     "text": [
      "4\n"
     ]
    }
   ],
   "source": [
    "def sqOne(number):\n",
    "    print(number ** 2)\n",
    "sqOne(2)"
   ]
  },
  {
   "cell_type": "code",
   "execution_count": null,
   "id": "944ec384",
   "metadata": {},
   "outputs": [],
   "source": [
    "# Cube of numbers\n"
   ]
  },
  {
   "cell_type": "markdown",
   "id": "0ea073dd",
   "metadata": {},
   "source": [
    "## Our own functions for practice\n",
    "`Echo` that will act same as print"
   ]
  },
  {
   "cell_type": "code",
   "execution_count": 19,
   "id": "8b616e47",
   "metadata": {},
   "outputs": [],
   "source": [
    "def echo(data):\n",
    "    return(data)"
   ]
  },
  {
   "cell_type": "code",
   "execution_count": 20,
   "id": "f65fdcf3",
   "metadata": {},
   "outputs": [
    {
     "data": {
      "text/plain": [
       "45"
      ]
     },
     "execution_count": 20,
     "metadata": {},
     "output_type": "execute_result"
    }
   ],
   "source": [
    "echo(45)"
   ]
  },
  {
   "cell_type": "code",
   "execution_count": 21,
   "id": "cc018c7b",
   "metadata": {},
   "outputs": [
    {
     "data": {
      "text/plain": [
       "'hello'"
      ]
     },
     "execution_count": 21,
     "metadata": {},
     "output_type": "execute_result"
    }
   ],
   "source": [
    "echo('hello')"
   ]
  },
  {
   "cell_type": "markdown",
   "id": "5e46b2db",
   "metadata": {},
   "source": [
    "### Practice1 Favorite Book: Write a function called favorite_book() that accepts one parameter, title. \n",
    "The function should print a message, such as One of my\n",
    "favorite books is Alice in Wonderland. Call the function, making sure to\n",
    "include a book title as an argument in the function call."
   ]
  },
  {
   "cell_type": "code",
   "execution_count": 31,
   "id": "acb00f6e",
   "metadata": {},
   "outputs": [],
   "source": [
    "def favBook(title):\n",
    "    print('One of my favorite books is', title)"
   ]
  },
  {
   "cell_type": "code",
   "execution_count": 32,
   "id": "9cc3c90d",
   "metadata": {},
   "outputs": [
    {
     "name": "stdout",
     "output_type": "stream",
     "text": [
      "One of my favorite books is A Game Of Thrones\n"
     ]
    }
   ],
   "source": [
    "favBook('A Game Of Thrones')"
   ]
  },
  {
   "cell_type": "markdown",
   "id": "83d0088a",
   "metadata": {},
   "source": [
    "### Functions with Multiple Parameters\n",
    "* `calc_MPG` function that determines the MPG from miles driven and gallons used"
   ]
  },
  {
   "cell_type": "code",
   "execution_count": 40,
   "id": "a50a0c0b",
   "metadata": {},
   "outputs": [
    {
     "ename": "SyntaxError",
     "evalue": "invalid syntax (455539338.py, line 3)",
     "output_type": "error",
     "traceback": [
      "\u001b[1;36m  File \u001b[1;32m\"C:\\Users\\typjo\\AppData\\Local\\Temp\\ipykernel_22508\\455539338.py\"\u001b[1;36m, line \u001b[1;32m3\u001b[0m\n\u001b[1;33m    print(f'The miles per gallon is' {calcMPG(400,10)}\u001b[0m\n\u001b[1;37m                                     ^\u001b[0m\n\u001b[1;31mSyntaxError\u001b[0m\u001b[1;31m:\u001b[0m invalid syntax\n"
     ]
    }
   ],
   "source": [
    "def calcMPG(milesDriven, gallonsUsed):\n",
    "    return(milesDriven / gallonsUsed)\n",
    "print(f'The miles per gallon is' {calcMPG(400,10)}"
   ]
  },
  {
   "cell_type": "code",
   "execution_count": 34,
   "id": "2e7d4b38",
   "metadata": {},
   "outputs": [
    {
     "name": "stdout",
     "output_type": "stream",
     "text": [
      "The miles per gallon is 40.0\n"
     ]
    }
   ],
   "source": [
    "calcMPG(400,10)"
   ]
  },
  {
   "cell_type": "markdown",
   "id": "b5e05036",
   "metadata": {},
   "source": [
    "## Default Parameter\n",
    "With default parameters, you can specify a default value that will be used for the function. If you pass a parameter in for the default value, it uses that value instead. \n",
    "### def MPG(miles=200,gallon=12)"
   ]
  },
  {
   "cell_type": "code",
   "execution_count": 37,
   "id": "12309231",
   "metadata": {},
   "outputs": [
    {
     "data": {
      "text/plain": [
       "16.666666666666668"
      ]
     },
     "execution_count": 37,
     "metadata": {},
     "output_type": "execute_result"
    }
   ],
   "source": [
    "def MPG(miles = 200, gallons = 12):\n",
    "    return miles / gallons\n",
    "MPG()"
   ]
  },
  {
   "cell_type": "code",
   "execution_count": 38,
   "id": "899b006a",
   "metadata": {},
   "outputs": [
    {
     "data": {
      "text/plain": [
       "25.0"
      ]
     },
     "execution_count": 38,
     "metadata": {},
     "output_type": "execute_result"
    }
   ],
   "source": [
    "MPG(miles = 300) #300 / 12"
   ]
  },
  {
   "cell_type": "code",
   "execution_count": 39,
   "id": "85334956",
   "metadata": {},
   "outputs": [
    {
     "data": {
      "text/plain": [
       "20.0"
      ]
     },
     "execution_count": 39,
     "metadata": {},
     "output_type": "execute_result"
    }
   ],
   "source": [
    "MPG(gallons = 10)"
   ]
  },
  {
   "cell_type": "markdown",
   "id": "c7f67792",
   "metadata": {},
   "source": [
    "###  Function repeat using `for` loop"
   ]
  },
  {
   "cell_type": "code",
   "execution_count": null,
   "id": "485f3873",
   "metadata": {},
   "outputs": [],
   "source": [
    "print('2001 Newburg Rd')\n",
    "print('2001 Newburg Rd')\n",
    "print('2001 Newburg Rd')\n",
    "print('2001 Newburg Rd')\n",
    "print('2001 Newburg Rd')"
   ]
  },
  {
   "cell_type": "code",
   "execution_count": 42,
   "id": "a1699662",
   "metadata": {},
   "outputs": [
    {
     "name": "stdout",
     "output_type": "stream",
     "text": [
      "2001 Newburg Rd\n",
      "2001 Newburg Rd\n",
      "2001 Newburg Rd\n",
      "2001 Newburg Rd\n",
      "2001 Newburg Rd\n"
     ]
    }
   ],
   "source": [
    "def uniAddress(address, count):\n",
    "    for i in range(count):\n",
    "        print(address)\n",
    "uniAddress('2001 Newburg Rd', 5)"
   ]
  },
  {
   "cell_type": "markdown",
   "id": "b3003a72",
   "metadata": {},
   "source": [
    "## Practice: Define a function called `name` and print your name 20 times using the function"
   ]
  },
  {
   "cell_type": "code",
   "execution_count": 43,
   "id": "74ecdff8",
   "metadata": {},
   "outputs": [
    {
     "name": "stdout",
     "output_type": "stream",
     "text": [
      "ty\n",
      "ty\n",
      "ty\n",
      "ty\n",
      "ty\n",
      "ty\n",
      "ty\n",
      "ty\n",
      "ty\n",
      "ty\n",
      "ty\n",
      "ty\n",
      "ty\n",
      "ty\n",
      "ty\n",
      "ty\n",
      "ty\n",
      "ty\n",
      "ty\n",
      "ty\n"
     ]
    }
   ],
   "source": [
    "def myName(name, count):\n",
    "    for i in range(count):\n",
    "        print(name)\n",
    "myName('ty', 20)"
   ]
  },
  {
   "cell_type": "code",
   "execution_count": null,
   "id": "255cdef1",
   "metadata": {},
   "outputs": [],
   "source": []
  },
  {
   "cell_type": "markdown",
   "id": "c9b50f99",
   "metadata": {},
   "source": [
    "### Write a function to find maximum of three values"
   ]
  },
  {
   "cell_type": "code",
   "execution_count": 44,
   "id": "cf2eba04",
   "metadata": {},
   "outputs": [
    {
     "data": {
      "text/plain": [
       "177"
      ]
     },
     "execution_count": 44,
     "metadata": {},
     "output_type": "execute_result"
    }
   ],
   "source": [
    "max(23, 56, 177)"
   ]
  },
  {
   "cell_type": "code",
   "execution_count": 45,
   "id": "333853e2",
   "metadata": {},
   "outputs": [],
   "source": [
    "def maximum(a,b,c):\n",
    "    if a > b and a > c:\n",
    "        largest = a\n",
    "    elif b > c:\n",
    "        largest = b\n",
    "    else:\n",
    "        largest = c\n",
    "    return largest"
   ]
  },
  {
   "cell_type": "code",
   "execution_count": 46,
   "id": "b7737b3e",
   "metadata": {},
   "outputs": [
    {
     "data": {
      "text/plain": [
       "10"
      ]
     },
     "execution_count": 46,
     "metadata": {},
     "output_type": "execute_result"
    }
   ],
   "source": [
    "maximum(5,10,7)"
   ]
  },
  {
   "cell_type": "code",
   "execution_count": 47,
   "id": "b2f75cb6",
   "metadata": {},
   "outputs": [
    {
     "data": {
      "text/plain": [
       "3"
      ]
     },
     "execution_count": 47,
     "metadata": {},
     "output_type": "execute_result"
    }
   ],
   "source": [
    "maximum(1,2,3)"
   ]
  },
  {
   "cell_type": "markdown",
   "id": "1a8c15bd",
   "metadata": {},
   "source": [
    "### Practice Example: Define `minimum` function of three values"
   ]
  },
  {
   "cell_type": "code",
   "execution_count": 53,
   "id": "4d547ad4",
   "metadata": {},
   "outputs": [],
   "source": [
    "def minimum(a,b,c,d):\n",
    "    if a < b and a < c and a < d:\n",
    "        smallest = a\n",
    "    elif b < c and b < d:\n",
    "        smallest = b\n",
    "    elif c < d:\n",
    "        smallest = c\n",
    "    else:\n",
    "        smallest = d\n",
    "    return smallest\n"
   ]
  },
  {
   "cell_type": "code",
   "execution_count": 56,
   "id": "996fb196",
   "metadata": {},
   "outputs": [
    {
     "data": {
      "text/plain": [
       "3"
      ]
     },
     "execution_count": 56,
     "metadata": {},
     "output_type": "execute_result"
    }
   ],
   "source": [
    "minimum(10,5,3,6)"
   ]
  },
  {
   "cell_type": "markdown",
   "id": "f20ad451",
   "metadata": {},
   "source": [
    "#  Arbitrary Argument Lists\n",
    "*  **`*args`**, indicating that the function can receive any number of additional arguments. \n",
    "* The `*` before the parameter name tells Python to pack any remaining arguments into a tuple that’s passed to the `args` parameter."
   ]
  },
  {
   "cell_type": "code",
   "execution_count": 57,
   "id": "c8b8817e",
   "metadata": {},
   "outputs": [],
   "source": [
    "#very important\n",
    "def getMean(*args):\n",
    "    return sum(args) / len(args)"
   ]
  },
  {
   "cell_type": "code",
   "execution_count": 58,
   "id": "607b5195",
   "metadata": {},
   "outputs": [
    {
     "data": {
      "text/plain": [
       "4.428571428571429"
      ]
     },
     "execution_count": 58,
     "metadata": {},
     "output_type": "execute_result"
    }
   ],
   "source": [
    "getMean(5,6,7,2,9,0,2) #*args can take as many parameters as you want and do the function "
   ]
  },
  {
   "cell_type": "code",
   "execution_count": 60,
   "id": "d86a3099",
   "metadata": {},
   "outputs": [
    {
     "data": {
      "text/plain": [
       "3.6"
      ]
     },
     "execution_count": 60,
     "metadata": {},
     "output_type": "execute_result"
    }
   ],
   "source": [
    "list = [1,2,4,5,6]\n",
    "getMean(*list)"
   ]
  },
  {
   "cell_type": "code",
   "execution_count": 61,
   "id": "b4161bac",
   "metadata": {},
   "outputs": [
    {
     "data": {
      "text/plain": [
       "33.666666666666664"
      ]
     },
     "execution_count": 61,
     "metadata": {},
     "output_type": "execute_result"
    }
   ],
   "source": [
    "tuple = (34,56,11)\n",
    "getMean(*tuple)"
   ]
  },
  {
   "cell_type": "markdown",
   "id": "84b44203",
   "metadata": {},
   "source": [
    "### Arbitary Argumented list with list"
   ]
  },
  {
   "cell_type": "code",
   "execution_count": null,
   "id": "3c6bb74b",
   "metadata": {},
   "outputs": [],
   "source": []
  },
  {
   "cell_type": "code",
   "execution_count": null,
   "id": "bdbadee9",
   "metadata": {},
   "outputs": [],
   "source": []
  },
  {
   "cell_type": "markdown",
   "id": "688d1f13",
   "metadata": {},
   "source": [
    "### More about functions\n",
    "In this session we looked at the concept of `scope`, working with `random numbers`, `statictics` and using various versions of import to work with different functions in module."
   ]
  },
  {
   "cell_type": "markdown",
   "id": "d21db560",
   "metadata": {},
   "source": [
    "### Scope\n",
    "* Each identifier has a `scope` that determines where you can use it in your program.\n",
    "\n",
    "* A local variable’s identifier has **local scope**. \n",
    "\n",
    "* Identifiers defined outside any function (or class) have **global scope**—these may include functions, variables and classes."
   ]
  },
  {
   "cell_type": "markdown",
   "id": "d8e69b30",
   "metadata": {},
   "source": [
    "One thing you don't want to do is create a variable and function with the same name. The variable will \"hide\" the function and prevent you from calling it. If you execute the cell below it will throw an error."
   ]
  },
  {
   "cell_type": "code",
   "execution_count": 1,
   "id": "a646455d",
   "metadata": {},
   "outputs": [
    {
     "data": {
      "text/plain": [
       "100"
      ]
     },
     "execution_count": 1,
     "metadata": {},
     "output_type": "execute_result"
    }
   ],
   "source": [
    "x = 10 #x is a global variable\n",
    "def scopeOfFunction(num):\n",
    "    return num ** 2 #num is a local variable \n",
    "scopeOfFunction(10)"
   ]
  },
  {
   "cell_type": "code",
   "execution_count": 2,
   "id": "0ecc0ffd",
   "metadata": {},
   "outputs": [
    {
     "data": {
      "text/plain": [
       "2025"
      ]
     },
     "execution_count": 2,
     "metadata": {},
     "output_type": "execute_result"
    }
   ],
   "source": [
    "scopeOfFunction(45)"
   ]
  },
  {
   "cell_type": "code",
   "execution_count": 3,
   "id": "49ceeeea",
   "metadata": {},
   "outputs": [
    {
     "data": {
      "text/plain": [
       "115.885225"
      ]
     },
     "execution_count": 3,
     "metadata": {},
     "output_type": "execute_result"
    }
   ],
   "source": [
    "scopeOfFunction(10.765)"
   ]
  },
  {
   "cell_type": "code",
   "execution_count": 12,
   "id": "efd2010d",
   "metadata": {},
   "outputs": [
    {
     "ename": "NameError",
     "evalue": "name 'scopeOfFunctio' is not defined",
     "output_type": "error",
     "traceback": [
      "\u001b[1;31m---------------------------------------------------------------------------\u001b[0m",
      "\u001b[1;31mNameError\u001b[0m                                 Traceback (most recent call last)",
      "\u001b[1;32m~\\AppData\\Local\\Temp\\ipykernel_3300\\2071504322.py\u001b[0m in \u001b[0;36m<module>\u001b[1;34m\u001b[0m\n\u001b[1;32m----> 1\u001b[1;33m \u001b[0mscopeOfFunctio\u001b[0m\u001b[1;33m|\u001b[0m\u001b[0mn\u001b[0m\u001b[1;33m(\u001b[0m\u001b[0mx\u001b[0m\u001b[1;33m)\u001b[0m\u001b[1;33m\u001b[0m\u001b[1;33m\u001b[0m\u001b[0m\n\u001b[0m",
      "\u001b[1;31mNameError\u001b[0m: name 'scopeOfFunctio' is not defined"
     ]
    }
   ],
   "source": [
    "scopeOfFunctio|n(x)"
   ]
  },
  {
   "cell_type": "code",
   "execution_count": 13,
   "id": "57c823a3",
   "metadata": {},
   "outputs": [],
   "source": [
    "#print(num) local variable scope within the function or else will generate NameError"
   ]
  },
  {
   "cell_type": "markdown",
   "id": "1a55bc5e",
   "metadata": {},
   "source": [
    "* By default, you cannot _modify_ a global variable in a function\n",
    "* Python creates a **new local variable** when you first assign a value to a variable in a function’s block.\n",
    "* In function `try_to_modify_global`’s block, the local `x` **shadows** the global `x`, making it inaccessible in the scope of the function’s block. "
   ]
  },
  {
   "cell_type": "code",
   "execution_count": 14,
   "id": "607bd492",
   "metadata": {},
   "outputs": [
    {
     "data": {
      "text/plain": [
       "3.5"
      ]
     },
     "execution_count": 14,
     "metadata": {},
     "output_type": "execute_result"
    }
   ],
   "source": [
    "x = 10\n",
    "def tryToModifyGlobal():\n",
    "    x = 3.5\n",
    "    return x\n",
    "tryToModifyGlobal()\n"
   ]
  },
  {
   "cell_type": "code",
   "execution_count": null,
   "id": "effcd2a9",
   "metadata": {},
   "outputs": [],
   "source": []
  },
  {
   "cell_type": "code",
   "execution_count": null,
   "id": "e2ffbcae",
   "metadata": {},
   "outputs": [],
   "source": []
  },
  {
   "cell_type": "markdown",
   "id": "3023353c",
   "metadata": {},
   "source": [
    "* To modify a global variable in a function’s block, you must use a **`global`** statement to declare that the variable is defined in the global scope: \"modify_global\""
   ]
  },
  {
   "cell_type": "code",
   "execution_count": 19,
   "id": "ad58975d",
   "metadata": {},
   "outputs": [
    {
     "data": {
      "text/plain": [
       "3.5"
      ]
     },
     "execution_count": 19,
     "metadata": {},
     "output_type": "execute_result"
    }
   ],
   "source": [
    "x = 10\n",
    "def modifyGlobal():\n",
    "    global x #convert a local varaible to global\n",
    "    x = 3.5\n",
    "    return x\n",
    "modifyGlobal()"
   ]
  },
  {
   "cell_type": "code",
   "execution_count": 20,
   "id": "c1578e44",
   "metadata": {},
   "outputs": [
    {
     "name": "stdout",
     "output_type": "stream",
     "text": [
      "3.5\n"
     ]
    }
   ],
   "source": [
    "print(x)"
   ]
  },
  {
   "cell_type": "markdown",
   "id": "109a13bb",
   "metadata": {},
   "source": [
    "## Write functions to find out Area and Perimeter of circle"
   ]
  },
  {
   "cell_type": "code",
   "execution_count": 23,
   "id": "19453914",
   "metadata": {},
   "outputs": [
    {
     "name": "stdout",
     "output_type": "stream",
     "text": [
      "Enter the value of the radius: 10\n",
      "The area of the circle is 314\n",
      "The area of the circle is 63\n"
     ]
    }
   ],
   "source": [
    "from math import pi \n",
    "\n",
    "def circleArea(r):\n",
    "    return pi * (r ** 2)\n",
    "def circlePerimeter(r):\n",
    "    return 2 * pi * r \n",
    "r = int(input('Enter the value of the radius: '))\n",
    "\n",
    "print(f\"The area of the circle is {round(circleArea(r))}\")\n",
    "print(f\"The area of the circle is {round(circlePerimeter(r))}\")"
   ]
  },
  {
   "cell_type": "code",
   "execution_count": null,
   "id": "3cc23bf3",
   "metadata": {},
   "outputs": [],
   "source": []
  },
  {
   "cell_type": "code",
   "execution_count": null,
   "id": "416ab6b5",
   "metadata": {},
   "outputs": [],
   "source": []
  },
  {
   "cell_type": "markdown",
   "id": "df6f51b1",
   "metadata": {},
   "source": [
    "## Write functions to find out Area and Perimeter of rectangle"
   ]
  },
  {
   "cell_type": "code",
   "execution_count": 28,
   "id": "d3b789f5",
   "metadata": {},
   "outputs": [
    {
     "name": "stdout",
     "output_type": "stream",
     "text": [
      "Enter the length: 10\n",
      "Enter the width: 5\n",
      "The area of the rectangle is: 50\n",
      "The perimeter of the rectange is: 30\n"
     ]
    }
   ],
   "source": [
    "#area = length * width \n",
    "#perimeter = 2(length + width )\n",
    "def area(l, w):\n",
    "    return l * w\n",
    "def peri(l, w):\n",
    "    return 2 * (l + w)\n",
    "l = int(input('Enter the length: '))\n",
    "w = int(input('Enter the width: '))\n",
    "print(f\"The area of the rectangle is: {area(l, w)}\")\n",
    "print(f\"The perimeter of the rectange is: {peri(l, w)}\")"
   ]
  },
  {
   "cell_type": "code",
   "execution_count": 24,
   "id": "7c817994",
   "metadata": {},
   "outputs": [],
   "source": []
  },
  {
   "cell_type": "code",
   "execution_count": null,
   "id": "190aa5a8",
   "metadata": {},
   "outputs": [],
   "source": []
  },
  {
   "cell_type": "markdown",
   "id": "a8278db5",
   "metadata": {},
   "source": [
    "## Random Number Generation\n",
    "* Can introduce the element of chance via the Python Standard Library’s `random` module. "
   ]
  },
  {
   "cell_type": "markdown",
   "id": "bc0d1543",
   "metadata": {},
   "source": [
    "* `randrange` function generates an integer from the first argument value up to, but not including, the second argument value.\n",
    "* Different values are displayed if you re-execute the loop.\n",
    "* random.randrange where `random` is module and `randrange` is method"
   ]
  },
  {
   "cell_type": "code",
   "execution_count": 2,
   "id": "c0cdc4b0",
   "metadata": {},
   "outputs": [
    {
     "data": {
      "text/plain": [
       "4"
      ]
     },
     "execution_count": 2,
     "metadata": {},
     "output_type": "execute_result"
    }
   ],
   "source": [
    "import random as rd \n",
    "rd.randrange(1,10)"
   ]
  },
  {
   "cell_type": "code",
   "execution_count": 3,
   "id": "1ef91f9b",
   "metadata": {},
   "outputs": [
    {
     "name": "stdout",
     "output_type": "stream",
     "text": [
      "15\n"
     ]
    }
   ],
   "source": [
    "x = rd.randrange(10,20)\n",
    "print(x)"
   ]
  },
  {
   "cell_type": "code",
   "execution_count": 9,
   "id": "bb30bb16",
   "metadata": {},
   "outputs": [
    {
     "name": "stdout",
     "output_type": "stream",
     "text": [
      "The final list is [43, 36, 34, 35, 38, 40, 47, 46, 35, 31, 37, 48, 44, 37, 42]\n"
     ]
    }
   ],
   "source": [
    "list = []\n",
    "for i in range(15):\n",
    "    x = rd.randrange(30,50)\n",
    "    list.append(x)\n",
    "print(f'The final list is {list}')"
   ]
  },
  {
   "cell_type": "markdown",
   "id": "333c6712",
   "metadata": {},
   "source": [
    "## Create a list of 20 numbers in the range of 30 to 50"
   ]
  },
  {
   "cell_type": "code",
   "execution_count": 10,
   "id": "9b1313e1",
   "metadata": {},
   "outputs": [
    {
     "name": "stdout",
     "output_type": "stream",
     "text": [
      "The final list is [49, 49, 36, 44, 37, 30, 41, 45, 36, 45, 38, 46, 39, 32, 39, 32, 31, 47, 41, 47]\n"
     ]
    }
   ],
   "source": [
    "list = []\n",
    "for i in range(20):\n",
    "    x = rd.randrange(30,50)\n",
    "    list.append(x)\n",
    "print(f'The final list is {list}')"
   ]
  },
  {
   "cell_type": "code",
   "execution_count": null,
   "id": "bb331b6f",
   "metadata": {},
   "outputs": [],
   "source": []
  },
  {
   "cell_type": "markdown",
   "id": "a58727b8",
   "metadata": {},
   "source": [
    "### Guess the number between 1 to 10"
   ]
  },
  {
   "cell_type": "code",
   "execution_count": 18,
   "id": "dc112d6e",
   "metadata": {},
   "outputs": [
    {
     "name": "stdout",
     "output_type": "stream",
     "text": [
      "Guess a number between 1 to 10: 5\n",
      "Try again\n",
      "Guess a number between 1 to 10: 1\n",
      "Try again\n",
      "Guess a number between 1 to 10: 3\n",
      "Try again\n",
      "Guess a number between 1 to 10: 5\n",
      "Try again\n",
      "Guess a number between 1 to 10: 7\n",
      "Try again\n",
      "Guess a number between 1 to 10: 8\n",
      "You have guessed the number correctly in 6 tries\n"
     ]
    }
   ],
   "source": [
    "import random\n",
    "#randint to generate random integer where the last index is included\n",
    "number = random.randint(1,10)\n",
    "#print(number)\n",
    "#setting a timer to count number of trial by the user\n",
    "time = 1\n",
    "#print number\n",
    "enteredNum = None\n",
    "while enteredNum != number:\n",
    "    enteredNum = int(input('Guess a number between 1 to 10: '))\n",
    "    if enteredNum == number:\n",
    "        print(f'You have guessed the number correctly in {time} tries')\n",
    "        break\n",
    "    else:\n",
    "        print('Try again')\n",
    "    time += 1"
   ]
  },
  {
   "cell_type": "code",
   "execution_count": null,
   "id": "c32a2ae1",
   "metadata": {},
   "outputs": [],
   "source": []
  },
  {
   "cell_type": "markdown",
   "id": "d20fc80a",
   "metadata": {},
   "source": [
    "#### "
   ]
  },
  {
   "attachments": {
    "image.png": {
     "image/png": "[encoded data removed]"
    }
   },
   "cell_type": "markdown",
   "id": "9cb125bf",
   "metadata": {},
   "source": [
    "![image.png](attachment:image.png)"
   ]
  },
  {
   "cell_type": "code",
   "execution_count": 30,
   "id": "75e97811",
   "metadata": {},
   "outputs": [],
   "source": [
    "import math\n",
    "def quadratic(a,b,c):\n",
    "    x1 = (-b + math.sqrt(math.pow(b,2) - 4*a*c)) /(2*a)\n",
    "    x2 = (-b - math.sqrt(math.pow(b,2) - 4*a*c)) /(2*a)\n",
    "    return x1, x2"
   ]
  },
  {
   "cell_type": "code",
   "execution_count": 31,
   "id": "1c762dc0",
   "metadata": {},
   "outputs": [
    {
     "data": {
      "text/plain": [
       "(-1.0, -1.0)"
      ]
     },
     "execution_count": 31,
     "metadata": {},
     "output_type": "execute_result"
    }
   ],
   "source": [
    "quadratic(2,4,2)"
   ]
  },
  {
   "cell_type": "code",
   "execution_count": 32,
   "id": "4e412071",
   "metadata": {},
   "outputs": [
    {
     "data": {
      "text/plain": [
       "(-0.19211344706804567, -7.807886552931954)"
      ]
     },
     "execution_count": 32,
     "metadata": {},
     "output_type": "execute_result"
    }
   ],
   "source": [
    "quadratic(2,16,3)"
   ]
  },
  {
   "cell_type": "code",
   "execution_count": 34,
   "id": "db6c4408",
   "metadata": {},
   "outputs": [
    {
     "name": "stdout",
     "output_type": "stream",
     "text": [
      "The root is -1.0 and the second root is -1.0\n"
     ]
    }
   ],
   "source": [
    "x1, x2 = quadratic(2,4,2) #tuple unpacking\n",
    "print(f'The root is {x1} and the second root is {x2}')"
   ]
  },
  {
   "cell_type": "code",
   "execution_count": null,
   "id": "6b3d1e57",
   "metadata": {},
   "outputs": [],
   "source": []
  }
 ],
 "metadata": {
  "kernelspec": {
   "display_name": "Python 3 (ipykernel)",
   "language": "python",
   "name": "python3"
  },
  "language_info": {
   "codemirror_mode": {
    "name": "ipython",
    "version": 3
   },
   "file_extension": ".py",
   "mimetype": "text/x-python",
   "name": "python",
   "nbconvert_exporter": "python",
   "pygments_lexer": "ipython3",
   "version": "3.9.13"
  }
 },
 "nbformat": 4,
 "nbformat_minor": 5
}
