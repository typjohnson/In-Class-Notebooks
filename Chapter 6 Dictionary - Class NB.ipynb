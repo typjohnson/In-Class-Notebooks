{
 "cells": [
  {
   "cell_type": "markdown",
   "id": "73943399",
   "metadata": {},
   "source": [
    "# 6. Working with Dictionaries\n",
    "* A dictionary in Python is a collection of key-value pairs. \n",
    "* Each key is connected to a value, and you can use a key to access the value associated with that key.\n",
    "* A key’s value can be a number, a string, a list, or even another dictionary.\n",
    "\n",
    "* `Key` is the unique identifier to find data and the `value` is the data\n",
    "\n",
    "* A dictionary is a collection which is ordered*, changeable and does not allow duplicates.\n",
    "\n",
    "* Unlike strings, lists, and tuples, **dictionaries are not sequences** - the data are not stored in order. \n",
    "* List can be represented by [ ], Tuple can be represented by ( ), Dictionary  can be represented by { }"
   ]
  },
  {
   "cell_type": "code",
   "execution_count": 1,
   "id": "05999d3a",
   "metadata": {},
   "outputs": [],
   "source": [
    "data = {}"
   ]
  },
  {
   "cell_type": "code",
   "execution_count": 2,
   "id": "88e3e9ba",
   "metadata": {},
   "outputs": [
    {
     "data": {
      "text/plain": [
       "dict"
      ]
     },
     "execution_count": 2,
     "metadata": {},
     "output_type": "execute_result"
    }
   ],
   "source": [
    "type(data)"
   ]
  },
  {
   "cell_type": "code",
   "execution_count": null,
   "id": "6e13f164",
   "metadata": {},
   "outputs": [],
   "source": [
    "data1 = dict()\n",
    "type(data1)"
   ]
  },
  {
   "cell_type": "code",
   "execution_count": 10,
   "id": "92b5c232",
   "metadata": {},
   "outputs": [],
   "source": [
    "#states are key and capitals are values\n",
    "\n",
    "data = {'Alabama' : 'Montgomery',\n",
    "       'Arizona' : 'Phoenix',\n",
    "       'Georgia' : 'Atlanta',\n",
    "       'Kentucky' : 'Frankfort',\n",
    "       'Ohio' : 'Salem'}"
   ]
  },
  {
   "cell_type": "code",
   "execution_count": 11,
   "id": "392415d9",
   "metadata": {},
   "outputs": [
    {
     "name": "stdout",
     "output_type": "stream",
     "text": [
      "{'Alabama': 'Montgomery', 'Arizona': 'Phoenix', 'Georgia': 'Atlanta', 'Kentucky': 'Frankfort', 'Ohio': 'Salem'}\n"
     ]
    },
    {
     "data": {
      "text/plain": [
       "dict"
      ]
     },
     "execution_count": 11,
     "metadata": {},
     "output_type": "execute_result"
    }
   ],
   "source": [
    "print(data)\n",
    "type(data)"
   ]
  },
  {
   "cell_type": "markdown",
   "id": "4be8c616",
   "metadata": {},
   "source": [
    "### Access `values` from a dictionary using key\n",
    "* Key and values can be any data types\n",
    "* Accessing key value not present in dictionary generated KeyError"
   ]
  },
  {
   "cell_type": "code",
   "execution_count": 12,
   "id": "aab3f949",
   "metadata": {},
   "outputs": [
    {
     "data": {
      "text/plain": [
       "'Montgomery'"
      ]
     },
     "execution_count": 12,
     "metadata": {},
     "output_type": "execute_result"
    }
   ],
   "source": [
    "data['Alabama']"
   ]
  },
  {
   "cell_type": "code",
   "execution_count": 13,
   "id": "fe9e3886",
   "metadata": {},
   "outputs": [
    {
     "data": {
      "text/plain": [
       "'Salem'"
      ]
     },
     "execution_count": 13,
     "metadata": {},
     "output_type": "execute_result"
    }
   ],
   "source": [
    "data['Ohio']"
   ]
  },
  {
   "cell_type": "code",
   "execution_count": 7,
   "id": "e4eb565d",
   "metadata": {},
   "outputs": [
    {
     "name": "stdout",
     "output_type": "stream",
     "text": [
      "{'Alabama': 'Montgomery', 'Arizona': 'Phoenix', 'Georgia': 'Atlanta', 'Kentucky': 'Frankfort', 'Ohio': 'Columbus'}\n"
     ]
    },
    {
     "data": {
      "text/plain": [
       "dict"
      ]
     },
     "execution_count": 7,
     "metadata": {},
     "output_type": "execute_result"
    }
   ],
   "source": [
    "#data['Louisiana']"
   ]
  },
  {
   "cell_type": "markdown",
   "id": "bc6af6fc",
   "metadata": {},
   "source": [
    "### Update elements of a dictionary and add new elements"
   ]
  },
  {
   "cell_type": "code",
   "execution_count": 15,
   "id": "f62f227f",
   "metadata": {},
   "outputs": [],
   "source": [
    "days = {1 : 'Monday',\n",
    "       2 : 'Tuesday',\n",
    "       4 : ('Thursday', 'Friday'),\n",
    "        5 : ['Saturday', 'Holiday']}"
   ]
  },
  {
   "cell_type": "code",
   "execution_count": 16,
   "id": "560dd19f",
   "metadata": {},
   "outputs": [
    {
     "data": {
      "text/plain": [
       "'Monday'"
      ]
     },
     "execution_count": 16,
     "metadata": {},
     "output_type": "execute_result"
    }
   ],
   "source": [
    "days[1]"
   ]
  },
  {
   "cell_type": "code",
   "execution_count": 17,
   "id": "7f07b100",
   "metadata": {},
   "outputs": [
    {
     "data": {
      "text/plain": [
       "('Thursday', 'Friday')"
      ]
     },
     "execution_count": 17,
     "metadata": {},
     "output_type": "execute_result"
    }
   ],
   "source": [
    "days[4]"
   ]
  },
  {
   "cell_type": "code",
   "execution_count": 18,
   "id": "e30ad316",
   "metadata": {},
   "outputs": [
    {
     "data": {
      "text/plain": [
       "'Saturday'"
      ]
     },
     "execution_count": 18,
     "metadata": {},
     "output_type": "execute_result"
    }
   ],
   "source": [
    "days[5][0]"
   ]
  },
  {
   "cell_type": "code",
   "execution_count": 20,
   "id": "6199946e",
   "metadata": {},
   "outputs": [
    {
     "data": {
      "text/plain": [
       "{1: 'Holiday',\n",
       " 2: 'Tuesday',\n",
       " 4: ('Thursday', 'Friday'),\n",
       " 5: ['Saturday', 'Holiday']}"
      ]
     },
     "execution_count": 20,
     "metadata": {},
     "output_type": "execute_result"
    }
   ],
   "source": [
    "days[1] = 'Holiday'\n",
    "days"
   ]
  },
  {
   "cell_type": "code",
   "execution_count": 21,
   "id": "46c3fe97",
   "metadata": {},
   "outputs": [
    {
     "data": {
      "text/plain": [
       "{1: 'Holiday',\n",
       " 2: 'Tuesday',\n",
       " 4: ('Thursday', 'Friday'),\n",
       " 5: ['Saturday', 'Holiday'],\n",
       " 3: 'Wednesday'}"
      ]
     },
     "execution_count": 21,
     "metadata": {},
     "output_type": "execute_result"
    }
   ],
   "source": [
    "days[3] = 'Wednesday'\n",
    "days"
   ]
  },
  {
   "cell_type": "markdown",
   "id": "f7bb990f",
   "metadata": {},
   "source": [
    "### `get` and `update` methods"
   ]
  },
  {
   "cell_type": "code",
   "execution_count": null,
   "id": "071c6f12",
   "metadata": {},
   "outputs": [],
   "source": [
    "data = {'Alabama' : 'Montgomery',\n",
    "       'Arizona' : 'Phoenix',\n",
    "       'Georgia' : 'Atlanta',\n",
    "       'Kentucky' : 'Frankfort',\n",
    "       'Ohio' : 'Salem'}"
   ]
  },
  {
   "cell_type": "code",
   "execution_count": 22,
   "id": "10cd3add",
   "metadata": {},
   "outputs": [
    {
     "data": {
      "text/plain": [
       "'Montgomery'"
      ]
     },
     "execution_count": 22,
     "metadata": {},
     "output_type": "execute_result"
    }
   ],
   "source": [
    "data.get('Alabama')"
   ]
  },
  {
   "cell_type": "code",
   "execution_count": 23,
   "id": "afdf81cb",
   "metadata": {},
   "outputs": [],
   "source": [
    "data.get('Louisiana') #not generating error"
   ]
  },
  {
   "cell_type": "code",
   "execution_count": 25,
   "id": "c99acf1a",
   "metadata": {},
   "outputs": [
    {
     "data": {
      "text/plain": [
       "{'Alabama': 'Montgomery',\n",
       " 'Arizona': 'Phoenix',\n",
       " 'Georgia': 'Atlanta',\n",
       " 'Kentucky': 'Louisville',\n",
       " 'Ohio': 'Salem',\n",
       " 'Louisiana': 'Baton Rouge'}"
      ]
     },
     "execution_count": 25,
     "metadata": {},
     "output_type": "execute_result"
    }
   ],
   "source": [
    "data.update({'Kentucky' : 'Louisville', 'Louisiana' : 'Baton Rouge'})\n",
    "data"
   ]
  },
  {
   "cell_type": "markdown",
   "id": "18536626",
   "metadata": {},
   "source": [
    "### Delete dictionary items using `del` and `pop`"
   ]
  },
  {
   "cell_type": "code",
   "execution_count": 29,
   "id": "ebc3b904",
   "metadata": {},
   "outputs": [],
   "source": [
    "data = {'Alabama' : 'Montgomery',\n",
    "       'Arizona' : 'Phoenix',\n",
    "       'Georgia' : 'Atlanta',\n",
    "       'Kentucky' : 'Frankfort',\n",
    "       'Ohio' : 'Salem'}"
   ]
  },
  {
   "cell_type": "code",
   "execution_count": 30,
   "id": "fc64b2ed",
   "metadata": {},
   "outputs": [
    {
     "data": {
      "text/plain": [
       "{'Arizona': 'Phoenix',\n",
       " 'Georgia': 'Atlanta',\n",
       " 'Kentucky': 'Frankfort',\n",
       " 'Ohio': 'Salem'}"
      ]
     },
     "execution_count": 30,
     "metadata": {},
     "output_type": "execute_result"
    }
   ],
   "source": [
    "del data['Alabama']\n",
    "data"
   ]
  },
  {
   "cell_type": "code",
   "execution_count": 31,
   "id": "e3993e4c",
   "metadata": {},
   "outputs": [
    {
     "data": {
      "text/plain": [
       "{'Arizona': 'Phoenix', 'Georgia': 'Atlanta', 'Kentucky': 'Frankfort'}"
      ]
     },
     "execution_count": 31,
     "metadata": {},
     "output_type": "execute_result"
    }
   ],
   "source": [
    "data.pop('Ohio')\n",
    "data"
   ]
  },
  {
   "cell_type": "code",
   "execution_count": 32,
   "id": "8c311478",
   "metadata": {},
   "outputs": [
    {
     "data": {
      "text/plain": [
       "'Frankfort'"
      ]
     },
     "execution_count": 32,
     "metadata": {},
     "output_type": "execute_result"
    }
   ],
   "source": [
    "data.pop('Kentucky')"
   ]
  },
  {
   "cell_type": "code",
   "execution_count": 33,
   "id": "b9646af2",
   "metadata": {},
   "outputs": [
    {
     "data": {
      "text/plain": [
       "{'Arizona': 'Phoenix', 'Georgia': 'Atlanta'}"
      ]
     },
     "execution_count": 33,
     "metadata": {},
     "output_type": "execute_result"
    }
   ],
   "source": [
    "data"
   ]
  },
  {
   "cell_type": "markdown",
   "id": "610aae76",
   "metadata": {},
   "source": [
    "### Number of elements in the dictionary and extracting `keys()`, `values()`, `items()`"
   ]
  },
  {
   "cell_type": "code",
   "execution_count": 34,
   "id": "f13bd3ba",
   "metadata": {},
   "outputs": [
    {
     "data": {
      "text/plain": [
       "{'Arizona': 'Phoenix', 'Georgia': 'Atlanta'}"
      ]
     },
     "execution_count": 34,
     "metadata": {},
     "output_type": "execute_result"
    }
   ],
   "source": [
    "data"
   ]
  },
  {
   "cell_type": "code",
   "execution_count": 35,
   "id": "1d31365f",
   "metadata": {},
   "outputs": [
    {
     "data": {
      "text/plain": [
       "2"
      ]
     },
     "execution_count": 35,
     "metadata": {},
     "output_type": "execute_result"
    }
   ],
   "source": [
    "len(data)"
   ]
  },
  {
   "cell_type": "code",
   "execution_count": 37,
   "id": "0db183c4",
   "metadata": {},
   "outputs": [
    {
     "data": {
      "text/plain": [
       "dict_keys(['Arizona', 'Georgia'])"
      ]
     },
     "execution_count": 37,
     "metadata": {},
     "output_type": "execute_result"
    }
   ],
   "source": [
    "data.keys()"
   ]
  },
  {
   "cell_type": "code",
   "execution_count": 38,
   "id": "a1c19204",
   "metadata": {},
   "outputs": [
    {
     "data": {
      "text/plain": [
       "dict_values(['Phoenix', 'Atlanta'])"
      ]
     },
     "execution_count": 38,
     "metadata": {},
     "output_type": "execute_result"
    }
   ],
   "source": [
    "data.values()"
   ]
  },
  {
   "cell_type": "code",
   "execution_count": 39,
   "id": "45748c3f",
   "metadata": {},
   "outputs": [
    {
     "data": {
      "text/plain": [
       "dict_items([('Arizona', 'Phoenix'), ('Georgia', 'Atlanta')])"
      ]
     },
     "execution_count": 39,
     "metadata": {},
     "output_type": "execute_result"
    }
   ],
   "source": [
    "data.items()"
   ]
  },
  {
   "cell_type": "markdown",
   "id": "ab9e78f2",
   "metadata": {},
   "source": [
    "### Loop through a dictionary"
   ]
  },
  {
   "cell_type": "code",
   "execution_count": 40,
   "id": "941bf04e",
   "metadata": {},
   "outputs": [
    {
     "data": {
      "text/plain": [
       "{1: 'Holiday',\n",
       " 2: 'Tuesday',\n",
       " 4: ('Thursday', 'Friday'),\n",
       " 5: ['Saturday', 'Holiday'],\n",
       " 3: 'Wednesday'}"
      ]
     },
     "execution_count": 40,
     "metadata": {},
     "output_type": "execute_result"
    }
   ],
   "source": [
    "days"
   ]
  },
  {
   "cell_type": "code",
   "execution_count": 41,
   "id": "fe239e39",
   "metadata": {},
   "outputs": [
    {
     "name": "stdout",
     "output_type": "stream",
     "text": [
      "1\n",
      "2\n",
      "4\n",
      "5\n",
      "3\n"
     ]
    }
   ],
   "source": [
    "for key in days.keys():\n",
    "    print(key)"
   ]
  },
  {
   "cell_type": "code",
   "execution_count": 42,
   "id": "c0746d46",
   "metadata": {},
   "outputs": [
    {
     "name": "stdout",
     "output_type": "stream",
     "text": [
      "Holiday\n",
      "Tuesday\n",
      "('Thursday', 'Friday')\n",
      "['Saturday', 'Holiday']\n",
      "Wednesday\n"
     ]
    }
   ],
   "source": [
    "for value in days.values():\n",
    "    print(value)"
   ]
  },
  {
   "cell_type": "code",
   "execution_count": 45,
   "id": "e07995b1",
   "metadata": {},
   "outputs": [
    {
     "name": "stdout",
     "output_type": "stream",
     "text": [
      "<class 'int'> <class 'str'>\n",
      "<class 'int'> <class 'str'>\n",
      "<class 'int'> <class 'tuple'>\n",
      "<class 'int'> <class 'list'>\n",
      "<class 'int'> <class 'str'>\n"
     ]
    }
   ],
   "source": [
    "for key, value in days.items():\n",
    "    print(type(key), type(value))"
   ]
  },
  {
   "cell_type": "markdown",
   "id": "82ec7aff",
   "metadata": {},
   "source": [
    "### Convert dictionary to lists using `list()` function"
   ]
  },
  {
   "cell_type": "code",
   "execution_count": 46,
   "id": "afcede6e",
   "metadata": {},
   "outputs": [
    {
     "data": {
      "text/plain": [
       "{'Arizona': 'Phoenix', 'Georgia': 'Atlanta'}"
      ]
     },
     "execution_count": 46,
     "metadata": {},
     "output_type": "execute_result"
    }
   ],
   "source": [
    "data"
   ]
  },
  {
   "cell_type": "code",
   "execution_count": 48,
   "id": "b85f9771",
   "metadata": {},
   "outputs": [
    {
     "data": {
      "text/plain": [
       "['Arizona', 'Georgia']"
      ]
     },
     "execution_count": 48,
     "metadata": {},
     "output_type": "execute_result"
    }
   ],
   "source": [
    "state = list(data.keys())\n",
    "state"
   ]
  },
  {
   "cell_type": "code",
   "execution_count": 50,
   "id": "1513a1e3",
   "metadata": {},
   "outputs": [
    {
     "data": {
      "text/plain": [
       "('Phoenix', 'Atlanta')"
      ]
     },
     "execution_count": 50,
     "metadata": {},
     "output_type": "execute_result"
    }
   ],
   "source": [
    "capital = tuple(data.values())\n",
    "capital"
   ]
  },
  {
   "cell_type": "markdown",
   "id": "d13131c6",
   "metadata": {},
   "source": [
    "### A List in a Dictionary"
   ]
  },
  {
   "cell_type": "code",
   "execution_count": 60,
   "id": "cd81cd95",
   "metadata": {},
   "outputs": [],
   "source": [
    "favLanguage = {\n",
    "    'Jen' : ['Python', 'Ruby'],\n",
    "    'Sarah' : 'C',\n",
    "    'Edward' : ['Ruby', 'Java'],\n",
    "    'Phil' : ['Pyhton', 'Haskell']\n",
    "}"
   ]
  },
  {
   "cell_type": "code",
   "execution_count": 67,
   "id": "1e55f4d5",
   "metadata": {},
   "outputs": [
    {
     "name": "stdout",
     "output_type": "stream",
     "text": [
      "\n",
      "Jen's favorite programming languages are: '\n",
      "['Python', 'Ruby']\n"
     ]
    },
    {
     "ename": "NameError",
     "evalue": "name 'langauges' is not defined",
     "output_type": "error",
     "traceback": [
      "\u001b[1;31m---------------------------------------------------------------------------\u001b[0m",
      "\u001b[1;31mNameError\u001b[0m                                 Traceback (most recent call last)",
      "\u001b[1;32m~\\AppData\\Local\\Temp\\ipykernel_23772\\1819423925.py\u001b[0m in \u001b[0;36m<module>\u001b[1;34m\u001b[0m\n\u001b[0;32m      2\u001b[0m     \u001b[0mprint\u001b[0m\u001b[1;33m(\u001b[0m\u001b[1;34m\"\\n\"\u001b[0m \u001b[1;33m+\u001b[0m \u001b[0mname\u001b[0m\u001b[1;33m.\u001b[0m\u001b[0mtitle\u001b[0m\u001b[1;33m(\u001b[0m\u001b[1;33m)\u001b[0m \u001b[1;33m+\u001b[0m \u001b[1;34m\"\\'s favorite programming languages are: '\"\u001b[0m\u001b[1;33m)\u001b[0m\u001b[1;33m\u001b[0m\u001b[1;33m\u001b[0m\u001b[0m\n\u001b[0;32m      3\u001b[0m     \u001b[0mprint\u001b[0m\u001b[1;33m(\u001b[0m\u001b[0mlanguages\u001b[0m\u001b[1;33m)\u001b[0m\u001b[1;33m\u001b[0m\u001b[1;33m\u001b[0m\u001b[0m\n\u001b[1;32m----> 4\u001b[1;33m     \u001b[1;32mfor\u001b[0m \u001b[0mi\u001b[0m \u001b[1;32min\u001b[0m \u001b[0mlangauges\u001b[0m\u001b[1;33m:\u001b[0m\u001b[1;33m\u001b[0m\u001b[1;33m\u001b[0m\u001b[0m\n\u001b[0m\u001b[0;32m      5\u001b[0m         \u001b[0mprint\u001b[0m\u001b[1;33m(\u001b[0m\u001b[1;34m\"\\t\\t\\t\\t\"\u001b[0m \u001b[1;33m+\u001b[0m \u001b[0mi\u001b[0m\u001b[1;33m.\u001b[0m\u001b[0mtitle\u001b[0m\u001b[1;33m(\u001b[0m\u001b[1;33m)\u001b[0m\u001b[1;33m)\u001b[0m\u001b[1;33m\u001b[0m\u001b[1;33m\u001b[0m\u001b[0m\n",
      "\u001b[1;31mNameError\u001b[0m: name 'langauges' is not defined"
     ]
    }
   ],
   "source": [
    "for name, languages in favLanguage.items():\n",
    "    print(\"\\n\" + name.title() + \"\\'s favorite programming languages are: '\")\n",
    "    print(languages)\n",
    "    for i in langauges:\n",
    "        print(\"\\t\\t\\t\\t\" + i.title())"
   ]
  },
  {
   "cell_type": "code",
   "execution_count": null,
   "id": "9796242d",
   "metadata": {},
   "outputs": [],
   "source": []
  },
  {
   "cell_type": "markdown",
   "id": "7543bcaf",
   "metadata": {},
   "source": [
    "###  A Dictionary in a Dictionary"
   ]
  },
  {
   "cell_type": "code",
   "execution_count": 1,
   "id": "5716262d",
   "metadata": {},
   "outputs": [],
   "source": [
    "user = {\n",
    "    'Einstein' : {\n",
    "        'First Name' : 'Albert',\n",
    "        'Last Name' : 'Einstein',\n",
    "        'Location' : 'Princeton'\n",
    "    },\n",
    "    'Mcurie' : {\n",
    "        'First Name' : 'Marie',\n",
    "        'Last Name' : 'Curie',\n",
    "        'Location' : 'Paris'\n",
    "    }\n",
    "}"
   ]
  },
  {
   "cell_type": "code",
   "execution_count": 4,
   "id": "7aaca1c4",
   "metadata": {},
   "outputs": [
    {
     "name": "stdout",
     "output_type": "stream",
     "text": [
      "\n",
      "User Name:  Einstein\n",
      "The full name is: Albert Einstein\n",
      "Location: Albert Einstein\n",
      "\n",
      "User Name:  Mcurie\n",
      "The full name is: Marie Curie\n",
      "Location: Marie Curie\n"
     ]
    }
   ],
   "source": [
    "for username, userInfo in user.items():\n",
    "    print('\\nUser Name: ', username)\n",
    "    fullName = userInfo['First Name'] + ' ' + userInfo['Last Name']\n",
    "    location = userInfo['First Name'] + ' ' + userInfo['Last Name']\n",
    "    print('The full name is: ' + fullName.title())\n",
    "    print('Location: ' + location.title())\n",
    "    "
   ]
  },
  {
   "cell_type": "code",
   "execution_count": null,
   "id": "0ac0e84c",
   "metadata": {},
   "outputs": [],
   "source": []
  }
 ],
 "metadata": {
  "kernelspec": {
   "display_name": "Python 3 (ipykernel)",
   "language": "python",
   "name": "python3"
  },
  "language_info": {
   "codemirror_mode": {
    "name": "ipython",
    "version": 3
   },
   "file_extension": ".py",
   "mimetype": "text/x-python",
   "name": "python",
   "nbconvert_exporter": "python",
   "pygments_lexer": "ipython3",
   "version": "3.9.13"
  }
 },
 "nbformat": 4,
 "nbformat_minor": 5
}
