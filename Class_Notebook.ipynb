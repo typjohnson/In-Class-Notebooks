{
 "cells": [
  {
   "cell_type": "markdown",
   "id": "4ef4485e",
   "metadata": {},
   "source": [
    "# Ch9 Classes"
   ]
  },
  {
   "cell_type": "markdown",
   "id": "7b465366",
   "metadata": {},
   "source": [
    "### Python is an object oriented programming language.\n",
    "- Almost everything in Python is an object, with its properties and methods (Functions).\n",
    "- A Class is like an object constructor, or a \"blueprint\" for creating objects."
   ]
  },
  {
   "cell_type": "code",
   "execution_count": 7,
   "id": "741b88de",
   "metadata": {},
   "outputs": [
    {
     "name": "stdout",
     "output_type": "stream",
     "text": [
      "the email of first employee: angi.hill@company.com\n",
      "first name of employee 1: Angi\n",
      "last name of employee 1: Hill\n",
      "age of employee 2: 35\n",
      "email of employee 2: peter.white@company.com\n",
      "full name of employee 2 is Angi Hill\n",
      "full name of employee 2 is Peter White\n"
     ]
    }
   ],
   "source": [
    "class Employee():\n",
    "#init is the constructor of the class. It is required for a class construction.\n",
    "# self is used to represent the instance of the class\n",
    "    def __init__(self,first,last,age,dept):\n",
    "    #method/function\n",
    "        self.first = first.title()\n",
    "        self.last = last.title()\n",
    "        self.age = age\n",
    "        self.dept = dept.title()\n",
    "        self.email = first.lower() + '.' + last.lower() + '@company.com'\n",
    "    #creating method called full name which needs only the instance\n",
    "    def fullname(self):\n",
    "        print(f'full name of employee 2 is {self.first} {self.last}')\n",
    "emp1 = Employee('angi', 'hill',25, 'accounting')\n",
    "emp2 = Employee('pETer', 'WHITE', 35, 'finance')\n",
    "\n",
    "print(f\"the email of first employee: {emp1.email}\")\n",
    "print(f\"first name of employee 1: {emp1.first}\")\n",
    "print(f\"last name of employee 1: {emp1.last}\")\n",
    "print(f\"age of employee 2: {emp2.age}\")\n",
    "print(f\"email of employee 2: {emp2.email}\")\n",
    "\n",
    "emp1.fullname()\n",
    "emp2.fullname()"
   ]
  },
  {
   "cell_type": "code",
   "execution_count": 4,
   "id": "bcdb6050",
   "metadata": {},
   "outputs": [],
   "source": [
    "class Employee():\n",
    "    def __init__(self,first,last,age,dept):\n",
    "        self.first = first.title()\n",
    "        self.last = last.title()\n",
    "        self.age = age\n",
    "        self.dept = dept.title()\n",
    "        self.email = first.lower() + '.' + last.lower() + '@company.com'\n",
    "emp1 = Employee('angi', 'hill',25, 'accounting')\n",
    "emp2 = Employee('pETer', 'WHITE', 35, 'finance')"
   ]
  },
  {
   "cell_type": "code",
   "execution_count": 25,
   "id": "a9136cf8",
   "metadata": {},
   "outputs": [
    {
     "name": "stdout",
     "output_type": "stream",
     "text": [
      "The email of the first employee is angi.hill@company.com\n",
      "The first name of employee one is Angi\n",
      "The last name of employee one is Hill\n",
      "The age of employee two is 35\n",
      "Full name of employee one: Angi Hill\n"
     ]
    }
   ],
   "source": [
    "\n",
    "print(f'The email of the first employee is {emp1.email}')\n",
    "print(f'The first name of employee one is {emp1.first}')\n",
    "print(f'The last name of employee one is {emp1.last}')\n",
    "print(f'The age of employee two is {emp2.age}')\n",
    "print(f'Full name of employee one: {emp1.first} {emp1.last}')"
   ]
  },
  {
   "cell_type": "code",
   "execution_count": 22,
   "id": "16561bf6",
   "metadata": {},
   "outputs": [
    {
     "ename": "TypeError",
     "evalue": "'int' object is not callable",
     "output_type": "error",
     "traceback": [
      "\u001b[1;31m---------------------------------------------------------------------------\u001b[0m",
      "\u001b[1;31mTypeError\u001b[0m                                 Traceback (most recent call last)",
      "\u001b[1;32m~\\AppData\\Local\\Temp\\ipykernel_15656\\2602665347.py\u001b[0m in \u001b[0;36m<module>\u001b[1;34m\u001b[0m\n\u001b[1;32m----> 1\u001b[1;33m \u001b[0memp_1\u001b[0m \u001b[1;33m=\u001b[0m \u001b[0mEmployee\u001b[0m\u001b[1;33m(\u001b[0m\u001b[1;34m'angy'\u001b[0m\u001b[1;33m,\u001b[0m \u001b[1;34m'hill'\u001b[0m\u001b[1;33m,\u001b[0m \u001b[1;36m25\u001b[0m\u001b[1;33m,\u001b[0m\u001b[1;34m'accounting'\u001b[0m\u001b[1;33m)\u001b[0m\u001b[1;33m\u001b[0m\u001b[1;33m\u001b[0m\u001b[0m\n\u001b[0m\u001b[0;32m      2\u001b[0m \u001b[0memp_2\u001b[0m \u001b[1;33m=\u001b[0m \u001b[0mEmployee\u001b[0m\u001b[1;33m(\u001b[0m\u001b[1;34m'PETER'\u001b[0m\u001b[1;33m,\u001b[0m\u001b[1;34m'WHITE'\u001b[0m\u001b[1;33m,\u001b[0m \u001b[1;36m35\u001b[0m\u001b[1;33m,\u001b[0m \u001b[1;34m'finance'\u001b[0m\u001b[1;33m)\u001b[0m\u001b[1;33m\u001b[0m\u001b[1;33m\u001b[0m\u001b[0m\n\u001b[0;32m      3\u001b[0m \u001b[1;33m\u001b[0m\u001b[0m\n\u001b[0;32m      4\u001b[0m \u001b[0mprint\u001b[0m\u001b[1;33m(\u001b[0m\u001b[1;34mf'The email of the first employee is {emp_1.email}'\u001b[0m\u001b[1;33m)\u001b[0m\u001b[1;33m\u001b[0m\u001b[1;33m\u001b[0m\u001b[0m\n\u001b[0;32m      5\u001b[0m \u001b[0mprint\u001b[0m\u001b[1;33m(\u001b[0m\u001b[1;34mf'The first name of employee one is {emp_1.first}'\u001b[0m\u001b[1;33m)\u001b[0m\u001b[1;33m\u001b[0m\u001b[1;33m\u001b[0m\u001b[0m\n",
      "\u001b[1;32m~\\AppData\\Local\\Temp\\ipykernel_15656\\3321468845.py\u001b[0m in \u001b[0;36m__init__\u001b[1;34m(self, first, last, age, dept)\u001b[0m\n\u001b[0;32m      6\u001b[0m         \u001b[0mself\u001b[0m\u001b[1;33m.\u001b[0m\u001b[0mfirst\u001b[0m \u001b[1;33m=\u001b[0m \u001b[0mfirst\u001b[0m\u001b[1;33m.\u001b[0m\u001b[0mtitle\u001b[0m\u001b[1;33m(\u001b[0m\u001b[1;33m)\u001b[0m\u001b[1;33m\u001b[0m\u001b[1;33m\u001b[0m\u001b[0m\n\u001b[0;32m      7\u001b[0m         \u001b[0mself\u001b[0m\u001b[1;33m.\u001b[0m\u001b[0mlast\u001b[0m \u001b[1;33m=\u001b[0m \u001b[0mlast\u001b[0m\u001b[1;33m.\u001b[0m\u001b[0mtitle\u001b[0m\u001b[1;33m(\u001b[0m\u001b[1;33m)\u001b[0m\u001b[1;33m\u001b[0m\u001b[1;33m\u001b[0m\u001b[0m\n\u001b[1;32m----> 8\u001b[1;33m         \u001b[0mself\u001b[0m\u001b[1;33m.\u001b[0m\u001b[0mage\u001b[0m \u001b[1;33m=\u001b[0m \u001b[0mage\u001b[0m\u001b[1;33m(\u001b[0m\u001b[1;33m)\u001b[0m\u001b[1;33m\u001b[0m\u001b[1;33m\u001b[0m\u001b[0m\n\u001b[0m\u001b[0;32m      9\u001b[0m         \u001b[0mself\u001b[0m\u001b[1;33m.\u001b[0m\u001b[0mdept\u001b[0m \u001b[1;33m=\u001b[0m \u001b[0mdept\u001b[0m\u001b[1;33m.\u001b[0m\u001b[0mtitle\u001b[0m\u001b[1;33m(\u001b[0m\u001b[1;33m)\u001b[0m\u001b[1;33m\u001b[0m\u001b[1;33m\u001b[0m\u001b[0m\n\u001b[0;32m     10\u001b[0m         \u001b[0mself\u001b[0m\u001b[1;33m.\u001b[0m\u001b[0memail\u001b[0m \u001b[1;33m=\u001b[0m \u001b[0mfirst\u001b[0m\u001b[1;33m.\u001b[0m\u001b[0mlower\u001b[0m\u001b[1;33m(\u001b[0m\u001b[1;33m)\u001b[0m \u001b[1;33m+\u001b[0m \u001b[1;34m'.'\u001b[0m \u001b[1;33m+\u001b[0m \u001b[0mlast\u001b[0m\u001b[1;33m.\u001b[0m\u001b[0mlower\u001b[0m\u001b[1;33m(\u001b[0m\u001b[1;33m)\u001b[0m \u001b[1;33m+\u001b[0m \u001b[1;34m'@company.com'\u001b[0m\u001b[1;33m\u001b[0m\u001b[1;33m\u001b[0m\u001b[0m\n",
      "\u001b[1;31mTypeError\u001b[0m: 'int' object is not callable"
     ]
    }
   ],
   "source": [
    "emp_1 = Employee('angy', 'hill', 25,'accounting')\n",
    "emp_2 = Employee('PETER','WHITE', 35, 'finance')\n",
    "\n",
    "print(f'The email of the first employee is {emp_1.email}')\n",
    "print(f'The first name of employee one is {emp_1.first}')\n",
    "print(f'The last name of employee one is {emp_1.last}')\n",
    "print(f'The age of employee two is {emp_2.age}')\n",
    "print(f'Full name of employee one: {emp_1.first} {emp_1.last}')"
   ]
  },
  {
   "cell_type": "markdown",
   "id": "5d60f7c0",
   "metadata": {},
   "source": [
    "### Creating the Dog Class\n",
    "Each instance created from the Dog class will store a name and an age, and we’ll give each dog the ability to sit() and roll_over():"
   ]
  },
  {
   "cell_type": "code",
   "execution_count": 11,
   "id": "6e84155c",
   "metadata": {},
   "outputs": [
    {
     "name": "stdout",
     "output_type": "stream",
     "text": [
      "Shelley\n",
      "4\n",
      "Shelley is sitting\n",
      "Shelley rolled over\n",
      "Shelley laid down\n",
      "Shadow is sitting\n",
      "Shadow rolled over\n",
      "Shadow shaked a random person\n",
      "Shadow is barking to a stranger\n",
      "Shadow laid down\n",
      "Shadow is sitting\n"
     ]
    }
   ],
   "source": [
    "class Dog():\n",
    "    def __init__(self,name,age):\n",
    "        self.name = name.title()\n",
    "        self.age = age\n",
    "    def sit(self):\n",
    "        print(f'{self.name} is sitting')\n",
    "    def rollOver(self):\n",
    "        print(f'{self.name} rolled over')\n",
    "    def shake(self):\n",
    "        print(f'{self.name} shaked a random person')\n",
    "    def bark(self):\n",
    "        print(f'{self.name} is barking to a stranger')\n",
    "    def down(self):\n",
    "        print(f'{self.name} laid down')\n",
    "dog1 = Dog('shelley', 4)\n",
    "print(dog1.name)\n",
    "print(dog1.age)\n",
    "dog1.sit()\n",
    "dog1.rollOver()\n",
    "dog1.down()\n",
    "         \n",
    "dog2 = Dog('Shadow', 1)\n",
    "dog2.sit()\n",
    "dog2.rollOver()\n",
    "dog2.shake()\n",
    "dog2.bark()\n",
    "dog2.down()\n",
    "dog2.sit()"
   ]
  },
  {
   "cell_type": "markdown",
   "id": "8bbcc5c0",
   "metadata": {},
   "source": [
    "#### Note:\n",
    "- By convention, capitalized names refer to classes in Python. \n",
    "- The parentheses in the class definition are empty because we’re creating this class from scratch.\n",
    "- All classes have a function called __init__(), which is always executed when the class is being initiated.\n",
    "- Use the __init__() function to assign values to object properties, or other operations that are necessary to do when the object is being created\n",
    "- Any variable prefixed with `self` is available to every method in the class, and we’ll also be able to access these variables through any instance created from the class.\n",
    "- The Dog class has two other methods defined: sit() and roll_over().Because these methods don’t need additional information like a name or age, we just define them to have one parameter, self."
   ]
  },
  {
   "cell_type": "markdown",
   "id": "402f0696",
   "metadata": {},
   "source": [
    "### Restaurant: Make a class called Restaurant. The __init__() method for Restaurant should store two attributes: a restaurant_name and a cuisine_type.\n",
    "- Make a method called `describe_restaurant()` that prints name of teh restrurent and the cuisine type\n",
    "- and a method called open_restaurant() that prints a message indicating that the restaurant is open.\n",
    "- Make an instance called restaurant from your class. Print the two attributes individually, and then call both methods.\n"
   ]
  },
  {
   "cell_type": "code",
   "execution_count": 15,
   "id": "c4316b2d",
   "metadata": {},
   "outputs": [
    {
     "name": "stdout",
     "output_type": "stream",
     "text": [
      "Restaurant name: The Mean Queen\n",
      "Cuisine type: pizza\n",
      "The Mean Queen serves wonderful pizza.\n",
      "The Mean Queen is open. Come on in!\n"
     ]
    }
   ],
   "source": [
    "class Restaurant():\n",
    "    def __init__(self,name,cuisineType):\n",
    "        self.name = name.title()\n",
    "        self.cuisineType = cuisineType\n",
    "    def describeRestaurant(self):\n",
    "        print(f'{self.name} serves wonderful {self.cuisineType}.')\n",
    "    def openRestaurant(self):\n",
    "        print(f'{self.name} is open. Come on in!')\n",
    "restaurant1 = Restaurant('The mean Queen', 'pizza')\n",
    "print(f'Restaurant name: {restaurant1.name}')\n",
    "print(f'Cuisine type: {restaurant1.cuisineType}')\n",
    "\n",
    "restaurant1.describeRestaurant()\n",
    "restaurant1.openRestaurant()"
   ]
  },
  {
   "cell_type": "code",
   "execution_count": 16,
   "id": "f9be3f46",
   "metadata": {},
   "outputs": [
    {
     "name": "stdout",
     "output_type": "stream",
     "text": [
      "The Mean Queen serves wonderful Pizza.\n",
      "Kfc serves wonderful Chicken.\n",
      "Fazolis serves wonderful Spaghetti.\n"
     ]
    }
   ],
   "source": [
    "restaurant1 = Restaurant('The Mean Queen', 'Pizza')\n",
    "restaurant2 = Restaurant('KFC', 'Chicken')\n",
    "restaurant3 = Restaurant('Fazolis', 'Spaghetti')\n",
    "\n",
    "restaurant1.describeRestaurant()\n",
    "restaurant2.describeRestaurant()\n",
    "restaurant3.describeRestaurant()"
   ]
  },
  {
   "cell_type": "markdown",
   "id": "8b4a4fca",
   "metadata": {},
   "source": [
    "### - Create three different instances from the class, and call describe_restaurant() for each instance."
   ]
  },
  {
   "cell_type": "code",
   "execution_count": 8,
   "id": "b3845fe0",
   "metadata": {},
   "outputs": [
    {
     "name": "stdout",
     "output_type": "stream",
     "text": [
      "Restaurant name: Angies Bakery\n",
      "Restaurant name: Cake\n"
     ]
    }
   ],
   "source": [
    "restaurant2 = Restaurant('Angies Bakery','Cake')\n",
    "print(f'Restaurant name: {restaurant2.name}')\n",
    "print(f'Restaurant name: {restaurant2.cuisineType}')"
   ]
  },
  {
   "cell_type": "code",
   "execution_count": 9,
   "id": "e6aa8a33",
   "metadata": {},
   "outputs": [
    {
     "name": "stdout",
     "output_type": "stream",
     "text": [
      "Restaurant name: Five Guys\n",
      "Restaurant name: Burgers\n"
     ]
    }
   ],
   "source": [
    "restaurant3 = Restaurant('Five Guys','Burgers')\n",
    "print(f'Restaurant name: {restaurant3.name}')\n",
    "print(f'Restaurant name: {restaurant3.cuisineType}')"
   ]
  },
  {
   "cell_type": "code",
   "execution_count": 10,
   "id": "6b24e6f1",
   "metadata": {},
   "outputs": [
    {
     "name": "stdout",
     "output_type": "stream",
     "text": [
      "Restaurant name: P.F. Changs\n",
      "Restaurant name: Chinese\n"
     ]
    }
   ],
   "source": [
    "restaurant4 = Restaurant('P.F. Changs', 'Chinese')\n",
    "print(f'Restaurant name: {restaurant4.name}')\n",
    "print(f'Restaurant name: {restaurant4.cuisineType}')"
   ]
  },
  {
   "cell_type": "markdown",
   "id": "8f4032c6",
   "metadata": {},
   "source": [
    "### Users: Make a class called User. Create attributes called first_name and last_name, username, location \n",
    "- Make a method called describe_user() that prints a summary of the user’s information. \n",
    "- Make another method called greet_user() that prints a personalized greeting to the user.\n",
    "- Create several instances representing different users, and call both methods for each user."
   ]
  },
  {
   "cell_type": "code",
   "execution_count": 16,
   "id": "dda94ce2",
   "metadata": {},
   "outputs": [
    {
     "name": "stdout",
     "output_type": "stream",
     "text": [
      "\n",
      "Eric Matthews\n",
      "    Username: eMatthews\n",
      "    Location: Alaska\n",
      "\n",
      "Welcome Back, Eric\n",
      "\n",
      "Ty Johnson\n",
      "    Username: tjohnson\n",
      "    Location: Louisville\n",
      "\n",
      "Welcome Back, Ty\n",
      "\n",
      "Brad Pitt\n",
      "    Username: bpitt\n",
      "    Location: Los Angeles\n",
      "\n",
      "Welcome Back, Brad\n"
     ]
    }
   ],
   "source": [
    "class User():\n",
    "    def __init__(self,fname,lname,username,location):\n",
    "        self.fname = fname.title()\n",
    "        self.lname = lname.title()\n",
    "        self.username = username\n",
    "        self.location = location.title()\n",
    "    def describeUser(self):\n",
    "        print(f'\\n{self.fname} {self.lname}')\n",
    "        print(f'    Username: {self.username}')\n",
    "        print(f'    Location: {self.location}')\n",
    "    def greetUser(self):\n",
    "        print(f'\\nWelcome Back, {self.fname}')\n",
    "\n",
    "userOne = User('Eric', 'Matthews', \"eMatthews\", 'Alaska')\n",
    "userOne.describeUser()\n",
    "userOne.greetUser()\n",
    "\n",
    "userTwo = User('Ty', 'Johnson', 'tjohnson', 'Louisville')\n",
    "userTwo.describeUser()\n",
    "userTwo.greetUser()\n",
    "\n",
    "userThree = User('Brad','Pitt','bpitt','Los Angeles')\n",
    "userThree.describeUser()\n",
    "userThree.greetUser()"
   ]
  },
  {
   "cell_type": "markdown",
   "id": "8b5bfff2",
   "metadata": {},
   "source": [
    "## Setting a Default Value for an Attribute"
   ]
  },
  {
   "cell_type": "code",
   "execution_count": 19,
   "id": "bbdc7a10",
   "metadata": {},
   "outputs": [],
   "source": [
    "class car():\n",
    "    def __init__(self,make,model,year):\n",
    "        self.make = make\n",
    "        self.model = model\n",
    "        self.year = year\n",
    "        self.odometerReading = 0\n",
    "    def getDescriptiveName(self):\n",
    "        longName = str(self.year) + \" \" + self.make + self.model\n",
    "        return longName.title\n",
    "    def readOdometer(self):\n",
    "        print(f'This car has {self.odometerReading} miles on it')"
   ]
  },
  {
   "cell_type": "code",
   "execution_count": 21,
   "id": "35859896",
   "metadata": {},
   "outputs": [
    {
     "name": "stdout",
     "output_type": "stream",
     "text": [
      "My car: <built-in method title of str object at 0x0000020C58A8B3F0>\n",
      "Friends car: <built-in method title of str object at 0x0000020C58A0C530>\n",
      "This car has 0 miles on it\n",
      "This car has 0 miles on it\n"
     ]
    }
   ],
   "source": [
    "myCar = car('Ford', 'F150', 2015)\n",
    "friendsCar = car('Chevorlet', 'Suburban', 2019)\n",
    "\n",
    "print(f\"My car: {myCar.getDescriptiveName()}\")\n",
    "print(f\"Friends car: {friendsCar.getDescriptiveName()}\")\n",
    "\n",
    "myCar.readOdometer()\n",
    "friendsCar.readOdometer()"
   ]
  },
  {
   "cell_type": "markdown",
   "id": "3f840f3e",
   "metadata": {},
   "source": [
    "#### Modifying an Attribute’s Value Directly"
   ]
  },
  {
   "cell_type": "code",
   "execution_count": 22,
   "id": "6f8fa540",
   "metadata": {},
   "outputs": [
    {
     "name": "stdout",
     "output_type": "stream",
     "text": [
      "This car has 25 miles on it\n"
     ]
    }
   ],
   "source": [
    "myCar.odometerReading = 25\n",
    "myCar.readOdometer()"
   ]
  },
  {
   "cell_type": "code",
   "execution_count": 23,
   "id": "2f382418",
   "metadata": {},
   "outputs": [
    {
     "name": "stdout",
     "output_type": "stream",
     "text": [
      "This car has 100 miles on it\n"
     ]
    }
   ],
   "source": [
    "friendsCar.odometerReading = 100\n",
    "friendsCar.readOdometer()"
   ]
  },
  {
   "cell_type": "markdown",
   "id": "27f8f244",
   "metadata": {},
   "source": [
    "### Modifying an Attribute’s Value Through a Method"
   ]
  },
  {
   "cell_type": "code",
   "execution_count": 35,
   "id": "9b3ae956",
   "metadata": {},
   "outputs": [],
   "source": [
    "class car():\n",
    "    def __init__(self,make,model,year):\n",
    "        self.make = make\n",
    "        self.model = model\n",
    "        self.year = year\n",
    "        self.odometerReading = 0\n",
    "    def getDescriptiveName(self):\n",
    "        longName = str(self.year) + \" \" + self.make + \" \" + self.model\n",
    "        return longName.title()\n",
    "    def readOdometer(self):\n",
    "        print(f'This car has {self.odometerReading} miles on it')\n",
    "    def updateOdometer(self, mileage):\n",
    "        self.odometerReading = mileage\n",
    "        print(f'The current odometer reading {self.odometerReading}')"
   ]
  },
  {
   "cell_type": "code",
   "execution_count": 36,
   "id": "3c3c57c2",
   "metadata": {},
   "outputs": [
    {
     "name": "stdout",
     "output_type": "stream",
     "text": [
      "The car information: 2014 Ford F150\n",
      "This car has 0 miles on it\n",
      "The current odometer reading 150\n"
     ]
    }
   ],
   "source": [
    "myCar = car('Ford', 'F150', 2014)\n",
    "print('The car information:', myCar.getDescriptiveName())\n",
    "myCar.readOdometer()\n",
    "myCar.updateOdometer(150)"
   ]
  },
  {
   "cell_type": "code",
   "execution_count": 37,
   "id": "e4b5af7d",
   "metadata": {},
   "outputs": [
    {
     "name": "stdout",
     "output_type": "stream",
     "text": [
      "This car has 150 miles on it\n"
     ]
    }
   ],
   "source": [
    "myCar.readOdometer()"
   ]
  },
  {
   "cell_type": "code",
   "execution_count": 38,
   "id": "3711c0d9",
   "metadata": {},
   "outputs": [
    {
     "name": "stdout",
     "output_type": "stream",
     "text": [
      "The current odometer reading 1000\n"
     ]
    }
   ],
   "source": [
    "myCar.updateOdometer(1000)"
   ]
  },
  {
   "cell_type": "markdown",
   "id": "fd560131",
   "metadata": {},
   "source": [
    "### Incrementing an Attribute’s Value Through a Method"
   ]
  },
  {
   "cell_type": "code",
   "execution_count": 3,
   "id": "8d76b884",
   "metadata": {},
   "outputs": [],
   "source": [
    "class car():\n",
    "    def __init__(self,make,model,year):\n",
    "        self.make = make\n",
    "        self.model = model\n",
    "        self.year = year\n",
    "        self.odometerReading = 0\n",
    "    def getDescriptiveName(self):\n",
    "        longName = str(self.year) + \" \" + self.make + \" \" + self.model\n",
    "        return longName.title()\n",
    "    def readOdometer(self):\n",
    "        print(f'This car has {self.odometerReading} miles on it')\n",
    "    def updateOdometer(self, mileage):\n",
    "        self.odometerReading = mileage\n",
    "        print(f'The current odometer reading {self.odometerReading}')\n",
    "    def incrementalOdometer(self, miles):\n",
    "        self.odometerReading += miles\n",
    "        print(f'The updated odometer reading: {self.odometerReading}')"
   ]
  },
  {
   "cell_type": "code",
   "execution_count": 4,
   "id": "1500c7e7",
   "metadata": {},
   "outputs": [
    {
     "name": "stdout",
     "output_type": "stream",
     "text": [
      "The car information:  2014 Ford F150\n",
      "This car has 0 miles on it\n",
      "The current odometer reading 23\n",
      "The updated odometer reading: 123\n",
      "The updated odometer reading: 1123\n"
     ]
    }
   ],
   "source": [
    "myCar = car('Ford', 'F150', 2014)\n",
    "print('The car information: ', myCar.getDescriptiveName())\n",
    "myCar.readOdometer()\n",
    "myCar.updateOdometer(23)\n",
    "myCar.incrementalOdometer(100)\n",
    "myCar.incrementalOdometer(1000)"
   ]
  },
  {
   "cell_type": "markdown",
   "id": "b96f0d18",
   "metadata": {},
   "source": [
    "# Inheritance\n",
    "- You don’t always have to start from scratch when writing a class. If the class you’re writing is a specialized version of another class you wrote, you can use inheritance. \n",
    "- When one class inherits from another, it automatically takes on all the attributes and methods of the first class. The original class is called the `parent class`, and the new class is the `child class`. \n",
    "- The child class inherits every attribute and method from its parent class but is also free to define new attributes and methods of its own."
   ]
  },
  {
   "cell_type": "markdown",
   "id": "49833b3a",
   "metadata": {},
   "source": [
    "### parent class - polygon\n",
    "- create a method called calcPerimeter"
   ]
  },
  {
   "cell_type": "code",
   "execution_count": 8,
   "id": "07cbb387",
   "metadata": {},
   "outputs": [],
   "source": [
    "class Polygon:\n",
    "    def __init__(self,sideLength):\n",
    "        self.sideLength = sideLength\n",
    "    def perimeter(self):\n",
    "        return sum(self.sideLength)"
   ]
  },
  {
   "cell_type": "code",
   "execution_count": 9,
   "id": "34de9649",
   "metadata": {},
   "outputs": [
    {
     "name": "stdout",
     "output_type": "stream",
     "text": [
      "23\n"
     ]
    }
   ],
   "source": [
    "someShape = Polygon([1,3,5,6,8])\n",
    "print(someShape.perimeter())"
   ]
  },
  {
   "cell_type": "code",
   "execution_count": 10,
   "id": "c57a3245",
   "metadata": {},
   "outputs": [
    {
     "name": "stdout",
     "output_type": "stream",
     "text": [
      "177\n"
     ]
    }
   ],
   "source": [
    "anotherShape = Polygon([2,56,65,12,34,8])\n",
    "print(anotherShape.perimeter())"
   ]
  },
  {
   "cell_type": "markdown",
   "id": "7313735c",
   "metadata": {},
   "source": [
    "## child class\n",
    "### create a child class called triangle and calculate the perimeter and area"
   ]
  },
  {
   "cell_type": "code",
   "execution_count": 11,
   "id": "fbe4d137",
   "metadata": {},
   "outputs": [],
   "source": [
    "class Triangle(Polygon):\n",
    "    def __init__(self,sideLength):\n",
    "        super().__init__(sideLength)\n",
    "    def area(self):\n",
    "        a,b,c = self.sideLength #unpacking the input variables \n",
    "        s = (a + b + c) / 2\n",
    "        return (s*(s - a) * (s - b) * (s - c)) ** .5\n",
    "    \n",
    "    \n",
    "    "
   ]
  },
  {
   "cell_type": "code",
   "execution_count": 12,
   "id": "071c260d",
   "metadata": {},
   "outputs": [
    {
     "name": "stdout",
     "output_type": "stream",
     "text": [
      "The perimeter is 12\n",
      "The area is 6.0\n"
     ]
    }
   ],
   "source": [
    "aTri = Triangle([3,4,5])\n",
    "print(f'The perimeter is {aTri.perimeter()}')\n",
    "print(f'The area is {aTri.area()}')"
   ]
  },
  {
   "cell_type": "markdown",
   "id": "c6feabeb",
   "metadata": {},
   "source": [
    "### create a child class called square and calculate the perimeter and area"
   ]
  },
  {
   "cell_type": "code",
   "execution_count": 13,
   "id": "d459ce09",
   "metadata": {},
   "outputs": [],
   "source": [
    "class Square(Polygon):\n",
    "    def __init__(self,sideLength):\n",
    "        super().__init__(sideLength)\n",
    "    def area(self):\n",
    "        a,b,c,d = self.sideLength\n",
    "        return a ** 2 #all sides are the same"
   ]
  },
  {
   "cell_type": "code",
   "execution_count": 14,
   "id": "31201580",
   "metadata": {},
   "outputs": [
    {
     "name": "stdout",
     "output_type": "stream",
     "text": [
      "the area is 25\n",
      "the perimeter is 20\n"
     ]
    }
   ],
   "source": [
    "aSq = Square([5,5,5,5])\n",
    "print(f'the area is {aSq.area()}')\n",
    "print(f'the perimeter is {aSq.perimeter()}')"
   ]
  },
  {
   "cell_type": "markdown",
   "id": "8848dbc0",
   "metadata": {},
   "source": [
    "### create a child class called rectangle and calculate the perimeter and area"
   ]
  },
  {
   "cell_type": "code",
   "execution_count": 15,
   "id": "9123f1a2",
   "metadata": {},
   "outputs": [],
   "source": [
    "class rectangle(Polygon):\n",
    "    def __init__(self,sideLength):\n",
    "        super().__init__(sideLength)\n",
    "    def area(self):\n",
    "        a,b,c,d = self.sideLength\n",
    "        if a != b:\n",
    "            result = a * b\n",
    "        elif a != c:\n",
    "            result = a * c\n",
    "        elif a != d:\n",
    "            result = a * d\n",
    "        return result"
   ]
  },
  {
   "cell_type": "code",
   "execution_count": 34,
   "id": "0c01b327",
   "metadata": {},
   "outputs": [
    {
     "name": "stdout",
     "output_type": "stream",
     "text": [
      "The area is 6\n",
      "The perimeter is 10\n"
     ]
    }
   ],
   "source": [
    "aRectangle = rectangle([2,2,3,3])\n",
    "print(f'The area is {aRectangle.area()}')\n",
    "print(f'The perimeter is {aRectangle.perimeter()}')"
   ]
  },
  {
   "cell_type": "markdown",
   "id": "5b594c20",
   "metadata": {},
   "source": [
    "### Practice: Create a class named Person, with firstname and lastname properties, and a printname method:"
   ]
  },
  {
   "cell_type": "code",
   "execution_count": 16,
   "id": "681edaaf",
   "metadata": {},
   "outputs": [],
   "source": [
    "class person():\n",
    "    def __init__(self, fName, lName):\n",
    "        self.fName = fName.title()\n",
    "        self.lName = lName.title()\n",
    "    def printname(self):\n",
    "        print(f'Full name: {self.fName} {self.lName}')"
   ]
  },
  {
   "cell_type": "code",
   "execution_count": 17,
   "id": "9d3a0e56",
   "metadata": {},
   "outputs": [
    {
     "name": "stdout",
     "output_type": "stream",
     "text": [
      "Full name: Ty Johnson\n",
      "Full name: John Smith\n"
     ]
    }
   ],
   "source": [
    "person1 = person('ty', 'johnson')\n",
    "person2 = person('john','smith')\n",
    "\n",
    "person1.printname()\n",
    "person2.printname()"
   ]
  },
  {
   "cell_type": "markdown",
   "id": "a8023470",
   "metadata": {},
   "source": [
    "### Create child classes called Student using Inheritance contains the first and last name and the graduation year \n",
    "- Add a method called `welcome` that prints the student graduation year\n",
    "- Test the student method for two students"
   ]
  },
  {
   "cell_type": "code",
   "execution_count": 18,
   "id": "8a1571d5",
   "metadata": {},
   "outputs": [],
   "source": [
    "class student(person):\n",
    "    def __init__(self,fName,lName,gradYear):\n",
    "        super().__init__(fName,lName)\n",
    "        self.gradYear = gradYear\n",
    "    def welcome(self):\n",
    "        print(f'Welcome, {self.fName} {self.lName} to the class of {self.gradYear}')"
   ]
  },
  {
   "cell_type": "code",
   "execution_count": 19,
   "id": "5816f6a4",
   "metadata": {},
   "outputs": [
    {
     "name": "stdout",
     "output_type": "stream",
     "text": [
      "Full name: Ty Johnson\n",
      "Welcome, Ty Johnson to the class of 2024\n"
     ]
    }
   ],
   "source": [
    "student1 = student('ty', 'johnson', 2024)\n",
    "student1.printname()\n",
    "student1.welcome()"
   ]
  },
  {
   "cell_type": "markdown",
   "id": "50cf006e",
   "metadata": {},
   "source": [
    "### create parent class of rectangle and two methods called area and perimeter"
   ]
  },
  {
   "cell_type": "code",
   "execution_count": 26,
   "id": "d06d23bb",
   "metadata": {},
   "outputs": [],
   "source": [
    "class Rectangle():\n",
    "    def __init__(self,length,width):\n",
    "        self.length = length\n",
    "        self.width = width\n",
    "    def area(self):\n",
    "        return self.length * self.width\n",
    "    def perimeter(self):\n",
    "        return 2 * (self.length + self.width)\n",
    "    \n",
    "    "
   ]
  },
  {
   "cell_type": "code",
   "execution_count": 27,
   "id": "cbd12e29",
   "metadata": {},
   "outputs": [
    {
     "name": "stdout",
     "output_type": "stream",
     "text": [
      "The perimeter of the triangle is 12\n",
      "The area of the triangle is 6.0\n"
     ]
    }
   ],
   "source": [
    "#create child class called Triangle\n",
    "#calculate perimeter and area\n",
    "\n",
    "class Triangle(Polygon):\n",
    "    def __init__(self,sideLength):\n",
    "        super().__init__(sideLength)\n",
    "    def area(self):\n",
    "        a,b,c = self.sideLength\n",
    "        s = (a + b + c) / 2\n",
    "        return (s * (s - a) * (s - b ) * (s - c)) **.5\n",
    "aTriangle = Triangle([3,4,5])\n",
    "print(f'The perimeter of the triangle is {aTriangle.perimeter()}')\n",
    "print(f'The area of the triangle is {aTriangle.area()}')"
   ]
  },
  {
   "cell_type": "code",
   "execution_count": 28,
   "id": "a9cb4935",
   "metadata": {},
   "outputs": [
    {
     "name": "stdout",
     "output_type": "stream",
     "text": [
      "The perimeter is 8\n"
     ]
    }
   ],
   "source": [
    "#create child class called square and calc the perimeter and area\n",
    "class Square(Polygon):\n",
    "    def __init__(self,sideLength):\n",
    "        super().__init__(sideLength)\n",
    "    def area(self):\n",
    "        a,b,c,d = self.sideLength\n",
    "        return a ** 2\n",
    "aSquare = Square([2,2,2,2])\n",
    "print(f'The perimeter is {aSquare.perimeter()}')"
   ]
  },
  {
   "cell_type": "markdown",
   "id": "4f84d93b",
   "metadata": {},
   "source": [
    "### create a child class square and test for two cases, do method overloading for area and perimeter "
   ]
  },
  {
   "cell_type": "code",
   "execution_count": 29,
   "id": "1081ab8b",
   "metadata": {},
   "outputs": [
    {
     "name": "stdout",
     "output_type": "stream",
     "text": [
      "9\n",
      "12\n"
     ]
    }
   ],
   "source": [
    "class Square(Rectangle):\n",
    "    def __init__(self,length):\n",
    "        super().__init__(length,length)\n",
    "square1 = Square(3)\n",
    "print(square1.area())\n",
    "print(square1.perimeter())\n",
    "        "
   ]
  },
  {
   "cell_type": "code",
   "execution_count": 31,
   "id": "96ba762e",
   "metadata": {},
   "outputs": [],
   "source": [
    "#lambda function\n",
    "#identity function returns the argument\n",
    "def identity(x):\n",
    "    return x"
   ]
  },
  {
   "cell_type": "code",
   "execution_count": 32,
   "id": "1d686ee8",
   "metadata": {},
   "outputs": [
    {
     "data": {
      "text/plain": [
       "3"
      ]
     },
     "execution_count": 32,
     "metadata": {},
     "output_type": "execute_result"
    }
   ],
   "source": [
    "identity(3)"
   ]
  },
  {
   "cell_type": "code",
   "execution_count": 33,
   "id": "d674644c",
   "metadata": {},
   "outputs": [
    {
     "data": {
      "text/plain": [
       "2"
      ]
     },
     "execution_count": 33,
     "metadata": {},
     "output_type": "execute_result"
    }
   ],
   "source": [
    "#a lambda function construction \n",
    "#lambda argument(s):expression\n",
    "(lambda x:x)(2)"
   ]
  },
  {
   "cell_type": "code",
   "execution_count": 34,
   "id": "09e90747",
   "metadata": {},
   "outputs": [
    {
     "data": {
      "text/plain": [
       "4"
      ]
     },
     "execution_count": 34,
     "metadata": {},
     "output_type": "execute_result"
    }
   ],
   "source": [
    "(lambda x:x+1)(3)"
   ]
  },
  {
   "cell_type": "code",
   "execution_count": 35,
   "id": "98d7642b",
   "metadata": {},
   "outputs": [],
   "source": [
    "#lambda is a function we can store into a variable\n",
    "addOne = lambda x:x + 1"
   ]
  },
  {
   "cell_type": "code",
   "execution_count": 36,
   "id": "1e5076c0",
   "metadata": {},
   "outputs": [
    {
     "data": {
      "text/plain": [
       "4"
      ]
     },
     "execution_count": 36,
     "metadata": {},
     "output_type": "execute_result"
    }
   ],
   "source": [
    "addOne(3)"
   ]
  },
  {
   "cell_type": "code",
   "execution_count": 38,
   "id": "281e1d0e",
   "metadata": {},
   "outputs": [
    {
     "data": {
      "text/plain": [
       "[2, 4, 6, 8, 10]"
      ]
     },
     "execution_count": 38,
     "metadata": {},
     "output_type": "execute_result"
    }
   ],
   "source": [
    "#filter\n",
    "#filter a list 1-10, only being interested in the even numbers\n",
    "list1=[1,2,3,4,5,6,7,8,9,10]\n",
    "list(filter(lambda x:x %2 == 0, list1))"
   ]
  },
  {
   "cell_type": "code",
   "execution_count": 39,
   "id": "2a124985",
   "metadata": {},
   "outputs": [
    {
     "data": {
      "text/plain": [
       "[1, 3, 5, 7, 9]"
      ]
     },
     "execution_count": 39,
     "metadata": {},
     "output_type": "execute_result"
    }
   ],
   "source": [
    "#filter the odd numbers\n",
    "list(filter(lambda x: x % 2== 1, list1))"
   ]
  },
  {
   "cell_type": "code",
   "execution_count": 40,
   "id": "6164609d",
   "metadata": {},
   "outputs": [
    {
     "data": {
      "text/plain": [
       "[3, 6, 9]"
      ]
     },
     "execution_count": 40,
     "metadata": {},
     "output_type": "execute_result"
    }
   ],
   "source": [
    "#filter the number multiple of 3\n",
    "list(filter(lambda x: x % 3 == 0, list1))"
   ]
  },
  {
   "cell_type": "code",
   "execution_count": 41,
   "id": "1edc584a",
   "metadata": {},
   "outputs": [
    {
     "data": {
      "text/plain": [
       "[1, 4, 9, 16, 25, 36, 49, 64, 81, 100]"
      ]
     },
     "execution_count": 41,
     "metadata": {},
     "output_type": "execute_result"
    }
   ],
   "source": [
    "#map() use whenever you want to update/modify every value in an iterable\n",
    "list1=[1,2,3,4,5,6,7,8,9,10]\n",
    "\n",
    "list(map(lambda x: pow(x,2),list1))"
   ]
  },
  {
   "cell_type": "code",
   "execution_count": 42,
   "id": "99469ca8",
   "metadata": {},
   "outputs": [
    {
     "data": {
      "text/plain": [
       "[1, 8, 27, 64, 125, 216, 343, 512, 729, 1000]"
      ]
     },
     "execution_count": 42,
     "metadata": {},
     "output_type": "execute_result"
    }
   ],
   "source": [
    "list(map(lambda y: pow(y,3), list1))"
   ]
  },
  {
   "cell_type": "code",
   "execution_count": 44,
   "id": "f41c60da",
   "metadata": {},
   "outputs": [
    {
     "data": {
      "text/plain": [
       "6"
      ]
     },
     "execution_count": 44,
     "metadata": {},
     "output_type": "execute_result"
    }
   ],
   "source": [
    "(lambda x,y,z:x+y+z)(1,2,3)"
   ]
  },
  {
   "cell_type": "code",
   "execution_count": 45,
   "id": "31124f84",
   "metadata": {},
   "outputs": [
    {
     "data": {
      "text/plain": [
       "5"
      ]
     },
     "execution_count": 45,
     "metadata": {},
     "output_type": "execute_result"
    }
   ],
   "source": [
    "(lambda x, y, z=2: x+y+z)(1,2)"
   ]
  },
  {
   "cell_type": "code",
   "execution_count": 46,
   "id": "c90bd7c7",
   "metadata": {},
   "outputs": [
    {
     "data": {
      "text/plain": [
       "3"
      ]
     },
     "execution_count": 46,
     "metadata": {},
     "output_type": "execute_result"
    }
   ],
   "source": [
    "(lambda x, y, z=2: x+y+z)(1,2,0)"
   ]
  },
  {
   "cell_type": "code",
   "execution_count": 47,
   "id": "52bac54c",
   "metadata": {},
   "outputs": [
    {
     "data": {
      "text/plain": [
       "23"
      ]
     },
     "execution_count": 47,
     "metadata": {},
     "output_type": "execute_result"
    }
   ],
   "source": [
    "(lambda *args: sum(args))(1,2,3,4,5,8)"
   ]
  },
  {
   "cell_type": "code",
   "execution_count": 48,
   "id": "e1750033",
   "metadata": {},
   "outputs": [
    {
     "ename": "ZeroDivisionError",
     "evalue": "division by zero",
     "output_type": "error",
     "traceback": [
      "\u001b[1;31m---------------------------------------------------------------------------\u001b[0m",
      "\u001b[1;31mZeroDivisionError\u001b[0m                         Traceback (most recent call last)",
      "\u001b[1;32m~\\AppData\\Local\\Temp\\ipykernel_15744\\3792182029.py\u001b[0m in \u001b[0;36m<module>\u001b[1;34m\u001b[0m\n\u001b[0;32m      1\u001b[0m \u001b[1;31m#exception handling\u001b[0m\u001b[1;33m\u001b[0m\u001b[1;33m\u001b[0m\u001b[0m\n\u001b[1;32m----> 2\u001b[1;33m \u001b[0mprint\u001b[0m\u001b[1;33m(\u001b[0m\u001b[1;36m5\u001b[0m\u001b[1;33m/\u001b[0m\u001b[1;36m0\u001b[0m\u001b[1;33m)\u001b[0m\u001b[1;33m\u001b[0m\u001b[1;33m\u001b[0m\u001b[0m\n\u001b[0m",
      "\u001b[1;31mZeroDivisionError\u001b[0m: division by zero"
     ]
    }
   ],
   "source": [
    "#exception handling\n",
    "print(5/0)"
   ]
  },
  {
   "cell_type": "code",
   "execution_count": 49,
   "id": "eab39fff",
   "metadata": {},
   "outputs": [
    {
     "ename": "TypeError",
     "evalue": "unsupported operand type(s) for +: 'int' and 'str'",
     "output_type": "error",
     "traceback": [
      "\u001b[1;31m---------------------------------------------------------------------------\u001b[0m",
      "\u001b[1;31mTypeError\u001b[0m                                 Traceback (most recent call last)",
      "\u001b[1;32m~\\AppData\\Local\\Temp\\ipykernel_15744\\667401234.py\u001b[0m in \u001b[0;36m<module>\u001b[1;34m\u001b[0m\n\u001b[0;32m      1\u001b[0m \u001b[0mx\u001b[0m \u001b[1;33m=\u001b[0m \u001b[1;36m5\u001b[0m\u001b[1;33m\u001b[0m\u001b[1;33m\u001b[0m\u001b[0m\n\u001b[0;32m      2\u001b[0m \u001b[0my\u001b[0m \u001b[1;33m=\u001b[0m \u001b[1;34m'hello'\u001b[0m\u001b[1;33m\u001b[0m\u001b[1;33m\u001b[0m\u001b[0m\n\u001b[1;32m----> 3\u001b[1;33m \u001b[0mz\u001b[0m \u001b[1;33m=\u001b[0m \u001b[0mx\u001b[0m \u001b[1;33m+\u001b[0m \u001b[0my\u001b[0m\u001b[1;33m\u001b[0m\u001b[1;33m\u001b[0m\u001b[0m\n\u001b[0m",
      "\u001b[1;31mTypeError\u001b[0m: unsupported operand type(s) for +: 'int' and 'str'"
     ]
    }
   ],
   "source": [
    "x = 5\n",
    "y = 'hello'\n",
    "z = x + y"
   ]
  },
  {
   "cell_type": "code",
   "execution_count": 50,
   "id": "03b068b8",
   "metadata": {},
   "outputs": [
    {
     "name": "stdout",
     "output_type": "stream",
     "text": [
      "Error: Cannot add int and str\n"
     ]
    }
   ],
   "source": [
    "x = 5\n",
    "y = 'hello'\n",
    "\n",
    "try: \n",
    "    z = x + y\n",
    "except TypeError:\n",
    "    print('Error: Cannot add int and str')"
   ]
  },
  {
   "cell_type": "code",
   "execution_count": 51,
   "id": "b8812ec0",
   "metadata": {},
   "outputs": [
    {
     "name": "stdout",
     "output_type": "stream",
     "text": [
      "Second variable:  2\n",
      "An error occured\n"
     ]
    }
   ],
   "source": [
    "list1=[1,2,3]\n",
    "try:\n",
    "    print(\"Second variable: \", list1[1])\n",
    "    print(\"Fourth variable: \", list1[3])\n",
    "except:\n",
    "    print(\"An error occured\")"
   ]
  },
  {
   "cell_type": "code",
   "execution_count": 52,
   "id": "88921880",
   "metadata": {},
   "outputs": [
    {
     "ename": "IndexError",
     "evalue": "list index out of range",
     "output_type": "error",
     "traceback": [
      "\u001b[1;31m---------------------------------------------------------------------------\u001b[0m",
      "\u001b[1;31mIndexError\u001b[0m                                Traceback (most recent call last)",
      "\u001b[1;32m~\\AppData\\Local\\Temp\\ipykernel_15744\\4055570827.py\u001b[0m in \u001b[0;36m<module>\u001b[1;34m\u001b[0m\n\u001b[0;32m      1\u001b[0m \u001b[0mlist1\u001b[0m\u001b[1;33m=\u001b[0m\u001b[1;33m[\u001b[0m\u001b[1;36m1\u001b[0m\u001b[1;33m,\u001b[0m\u001b[1;36m2\u001b[0m\u001b[1;33m,\u001b[0m\u001b[1;36m3\u001b[0m\u001b[1;33m]\u001b[0m\u001b[1;33m\u001b[0m\u001b[1;33m\u001b[0m\u001b[0m\n\u001b[1;32m----> 2\u001b[1;33m \u001b[0mprint\u001b[0m\u001b[1;33m(\u001b[0m\u001b[1;34m\"Fourth variable: \"\u001b[0m\u001b[1;33m,\u001b[0m \u001b[0mlist1\u001b[0m\u001b[1;33m[\u001b[0m\u001b[1;36m3\u001b[0m\u001b[1;33m]\u001b[0m\u001b[1;33m)\u001b[0m\u001b[1;33m\u001b[0m\u001b[1;33m\u001b[0m\u001b[0m\n\u001b[0m",
      "\u001b[1;31mIndexError\u001b[0m: list index out of range"
     ]
    }
   ],
   "source": [
    "list1=[1,2,3]\n",
    "print(\"Fourth variable: \", list1[3])"
   ]
  },
  {
   "cell_type": "code",
   "execution_count": 53,
   "id": "a9647ad9",
   "metadata": {},
   "outputs": [
    {
     "name": "stdout",
     "output_type": "stream",
     "text": [
      "-5.0\n",
      "a/b results 0\n"
     ]
    }
   ],
   "source": [
    "def test(a,b):\n",
    "    try:\n",
    "        c=(a+b)/(a-b)\n",
    "    except:\n",
    "        print(\"a/b results 0\")\n",
    "    else:\n",
    "        print(c)\n",
    "test(2,3)\n",
    "test(3,3)        "
   ]
  },
  {
   "cell_type": "markdown",
   "id": "3bdcfd1c",
   "metadata": {},
   "source": [
    "## Create a simple calculator using classes"
   ]
  },
  {
   "cell_type": "code",
   "execution_count": 55,
   "id": "6ab4b4b1",
   "metadata": {},
   "outputs": [
    {
     "name": "stdout",
     "output_type": "stream",
     "text": [
      "Enter first number: 10\n",
      "Enter second number: 7\n",
      "\n",
      "0. Exit\n",
      "1. Addition\n",
      "2. Subtraction\n",
      "3. Multiplication\n",
      "4. Division\n",
      "Enter your choice....1\n",
      "Result: 17\n",
      "\n",
      "0. Exit\n",
      "1. Addition\n",
      "2. Subtraction\n",
      "3. Multiplication\n",
      "4. Division\n",
      "Enter your choice....2\n",
      "Result: 3\n",
      "\n",
      "0. Exit\n",
      "1. Addition\n",
      "2. Subtraction\n",
      "3. Multiplication\n",
      "4. Division\n",
      "Enter your choice....3\n",
      "Result: 70\n",
      "\n",
      "0. Exit\n",
      "1. Addition\n",
      "2. Subtraction\n",
      "3. Multiplication\n",
      "4. Division\n",
      "Enter your choice....4\n",
      "Result: 1.4285714285714286\n",
      "\n",
      "0. Exit\n",
      "1. Addition\n",
      "2. Subtraction\n",
      "3. Multiplication\n",
      "4. Division\n",
      "Enter your choice....0\n",
      "Exit\n",
      "\n"
     ]
    }
   ],
   "source": [
    "class calculator():\n",
    "    def __init__(self,input1,input2):\n",
    "        self.input1=input1\n",
    "        self.input2=input2\n",
    "    def addition(self):\n",
    "        return self.input1+self.input2\n",
    "    def subtraction(self):\n",
    "        return self.input1-self.input2\n",
    "    def multiplication(self):\n",
    "        return self.input1*self.input2\n",
    "    def division(self):\n",
    "        return self.input1/self.input2\n",
    "input1 = int(input(\"Enter first number: \"))\n",
    "input2 = int(input(\"Enter second number: \"))\n",
    "myCalc = calculator(input1,input2)\n",
    "\n",
    "choice = 1\n",
    "while choice != 0:\n",
    "    print()\n",
    "    print(\"0. Exit\")\n",
    "    print(\"1. Addition\")\n",
    "    print(\"2. Subtraction\")\n",
    "    print(\"3. Multiplication\")\n",
    "    print(\"4. Division\")\n",
    "    choice=int(input(\"Enter your choice....\"))\n",
    "    \n",
    "    if choice==1:\n",
    "        print(f\"Result: {myCalc.addition()}\")\n",
    "        \n",
    "    elif choice==2:\n",
    "        print(f\"Result: {myCalc.subtraction()}\")\n",
    "    \n",
    "    elif choice==3:\n",
    "        print(f\"Result: {myCalc.multiplication()}\")\n",
    "    elif choice==4:\n",
    "        print(f\"Result: {myCalc.division()}\")\n",
    "    elif choice==0:\n",
    "              print(\"Exit\")\n",
    "    else:\n",
    "              print(\"Sorry Invalid choice\")\n",
    "print()"
   ]
  },
  {
   "cell_type": "markdown",
   "id": "0ec161b5",
   "metadata": {},
   "source": [
    "## ATM machine "
   ]
  },
  {
   "cell_type": "code",
   "execution_count": 67,
   "id": "267c3e25",
   "metadata": {},
   "outputs": [],
   "source": [
    "class bankAccount:\n",
    "    def __init__(self):\n",
    "        self.balance = 0\n",
    "        print('hello, welcome to the ATM!')\n",
    "    def deposit(self):\n",
    "        amount = float(input('enter the amount you want to deposit: '))\n",
    "        self.balance += amount\n",
    "        print('\\n Amount Deposited: ', amount)\n",
    "    def withdraw(self):\n",
    "        amount = float(input('enter the amount you want to withdraw: '))\n",
    "        if self.balance >= amount:\n",
    "            self.balance -= amount\n",
    "            print(\"\\n You withdrawed\", amount)\n",
    "        else:\n",
    "            print(\"\\n Insufficient Balance\")\n",
    "    def display(self):\n",
    "        print(\"The available balance is: \", self.balance)"
   ]
  },
  {
   "cell_type": "code",
   "execution_count": 68,
   "id": "a6e40459",
   "metadata": {},
   "outputs": [
    {
     "name": "stdout",
     "output_type": "stream",
     "text": [
      "hello, welcome to the ATM!\n",
      "The available balance is:  0\n"
     ]
    }
   ],
   "source": [
    "tyAccount = bankAccount()\n",
    "tyAccount.display()"
   ]
  },
  {
   "cell_type": "code",
   "execution_count": 69,
   "id": "0598b44c",
   "metadata": {},
   "outputs": [
    {
     "name": "stdout",
     "output_type": "stream",
     "text": [
      "enter the amount you want to deposit: 1000\n",
      "\n",
      " Amount Deposited:  1000.0\n"
     ]
    }
   ],
   "source": [
    "tyAccount.deposit()"
   ]
  },
  {
   "cell_type": "code",
   "execution_count": 70,
   "id": "1c4fb711",
   "metadata": {},
   "outputs": [
    {
     "name": "stdout",
     "output_type": "stream",
     "text": [
      "The available balance is:  1000.0\n"
     ]
    }
   ],
   "source": [
    "tyAccount.display()"
   ]
  },
  {
   "cell_type": "code",
   "execution_count": 72,
   "id": "5a3e8a0e",
   "metadata": {},
   "outputs": [
    {
     "name": "stdout",
     "output_type": "stream",
     "text": [
      "enter the amount you want to withdraw: 350\n",
      "\n",
      " You withdrawed 350.0\n"
     ]
    }
   ],
   "source": [
    "tyAccount.withdraw()"
   ]
  },
  {
   "cell_type": "code",
   "execution_count": null,
   "id": "e90dd9a8",
   "metadata": {},
   "outputs": [],
   "source": []
  }
 ],
 "metadata": {
  "kernelspec": {
   "display_name": "Python 3 (ipykernel)",
   "language": "python",
   "name": "python3"
  },
  "language_info": {
   "codemirror_mode": {
    "name": "ipython",
    "version": 3
   },
   "file_extension": ".py",
   "mimetype": "text/x-python",
   "name": "python",
   "nbconvert_exporter": "python",
   "pygments_lexer": "ipython3",
   "version": "3.9.13"
  }
 },
 "nbformat": 4,
 "nbformat_minor": 5
}
